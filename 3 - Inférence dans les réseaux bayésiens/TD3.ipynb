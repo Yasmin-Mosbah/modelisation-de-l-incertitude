{
 "cells": [
  {
   "cell_type": "markdown",
   "metadata": {},
   "source": [
    "# Modélisation de l’incertitude — Master 2 MIAGE IA2\n",
    "## TD 3 : Réseaux bayésiens\n",
    "## Devoir de : MOSBAH Yasmin"
   ]
  },
  {
   "cell_type": "markdown",
   "metadata": {},
   "source": [
    "# Installation de Cython et de Pomegranate"
   ]
  },
  {
   "cell_type": "code",
   "execution_count": 1,
   "metadata": {},
   "outputs": [
    {
     "name": "stdout",
     "output_type": "stream",
     "text": [
      "Requirement already satisfied: Cython in /home/deptinfo/.local/lib/python3.8/site-packages (0.29.21)\n",
      "Requirement already satisfied: pomegranate in /home/deptinfo/.local/lib/python3.8/site-packages (0.13.5)\n",
      "Requirement already satisfied: joblib>=0.9.0b4 in /home/deptinfo/.local/lib/python3.8/site-packages (from pomegranate) (0.17.0)\n",
      "Requirement already satisfied: numpy>=1.8.0 in /home/deptinfo/.local/lib/python3.8/site-packages (from pomegranate) (1.19.4)\n",
      "Requirement already satisfied: networkx>=2.0 in /home/deptinfo/.local/lib/python3.8/site-packages (from pomegranate) (2.5)\n",
      "Requirement already satisfied: pyyaml in /usr/lib/python3/dist-packages (from pomegranate) (5.3.1)\n",
      "Requirement already satisfied: scipy>=0.17.0 in /home/deptinfo/.local/lib/python3.8/site-packages (from pomegranate) (1.5.4)\n",
      "Requirement already satisfied: decorator>=4.3.0 in /home/deptinfo/.local/lib/python3.8/site-packages (from networkx>=2.0->pomegranate) (4.4.2)\n"
     ]
    }
   ],
   "source": [
    "!pip3 install Cython\n",
    "!pip3 install pomegranate\n",
    "#Nous allons commencer par importer du module Pomegranate les éléments dont nous aurons besoin :\n",
    "from pomegranate import *"
   ]
  },
  {
   "cell_type": "markdown",
   "metadata": {},
   "source": [
    "# **Licencié ou augmenté ?**"
   ]
  },
  {
   "cell_type": "code",
   "execution_count": 2,
   "metadata": {},
   "outputs": [],
   "source": [
    "#Nous créons le réseau :\n",
    "G = BayesianNetwork('Bayes&Co')\n",
    "\n",
    "#Créons maintenant les variables aléatoires de notre réseau :\n",
    "\n",
    "#Le sujet nous dit qu'on a autant de chance de se faire licencier qu'auguementer \n",
    "licenciement = DiscreteDistribution({'Oui': 0.5, 'Non': 0.5})\n",
    "\n",
    "#Ensuite le sujet nous présente chaque probabilité par membre des ressources humaines\n",
    "rh = ConditionalProbabilityTable(\n",
    "  [['Oui','Janet', 0.30],\n",
    "   ['Non','Janet', 0.20],\n",
    "   ['Oui','Jim', 0.35],\n",
    "   ['Non','Jim', 0.20],\n",
    "   ['Oui','Julia', 0.35],\n",
    "   ['Non','Julia', 0.60]], [licenciement])"
   ]
  },
  {
   "cell_type": "code",
   "execution_count": 3,
   "metadata": {},
   "outputs": [],
   "source": [
    "#Ensuite on passe dans la partie comptabilité\n",
    "comptabilite = ConditionalProbabilityTable(\n",
    "  [['Oui','James', 0.37],\n",
    "   ['Non','James', 0.42],\n",
    "   ['Oui','Jules', 0.63],\n",
    "   ['Non','Jules', 0.58]], [licenciement])"
   ]
  },
  {
   "cell_type": "code",
   "execution_count": 4,
   "metadata": {},
   "outputs": [],
   "source": [
    "#On ajoute la probabilité qu'il recoive un mail ou un courrier\n",
    "notice = ConditionalProbabilityTable(\n",
    "  [['Janet','James','Lettre', 0.40],\n",
    "   ['Janet','James','Mail', 0.60],\n",
    "   ['Janet','Jules','Lettre', 0.70],\n",
    "   ['Janet','Jules','Mail', 0.30],\n",
    "   ['Jim','James','Lettre', 0.30],\n",
    "   ['Jim','James','Mail', 0.70],\n",
    "   ['Jim','Jules','Lettre', 0.65],\n",
    "   ['Jim','Jules','Mail', 0.35],\n",
    "   ['Julia','James','Lettre', 0.25],\n",
    "   ['Julia','James','Mail', 0.75],\n",
    "   ['Julia','Jules','Lettre', 0.55],\n",
    "   ['Julia','Jules','Mail', 0.45]], [rh,comptabilite])"
   ]
  },
  {
   "cell_type": "code",
   "execution_count": 5,
   "metadata": {},
   "outputs": [],
   "source": [
    "# Ensuite, il faut créer la structure du réseau:\n",
    "l = State(licenciement, name = 'licenciement')\n",
    "r = State(rh, name = 'rh')\n",
    "c = State(comptabilite, name = 'comptabilite')\n",
    "n = State(notice, name = 'notice')\n",
    "G.add_states(l,r,c,n)\n",
    "G.add_edge(l,c)\n",
    "G.add_edge(l,r)\n",
    "G.add_edge(r,n)\n",
    "G.add_edge(c,n)\n",
    "G.bake()\n",
    "#print(G)"
   ]
  },
  {
   "cell_type": "markdown",
   "metadata": {},
   "source": [
    "## **Q1 :** Jeremy a reçu ce matin une lettre de Janet et Jules ; quelle est la probabilité qu’il s’agisse d’une lettre de licenciement ?"
   ]
  },
  {
   "cell_type": "code",
   "execution_count": 6,
   "metadata": {},
   "outputs": [
    {
     "name": "stdout",
     "output_type": "stream",
     "text": [
      "licenciement {\n",
      "    \"class\" : \"Distribution\",\n",
      "    \"dtype\" : \"str\",\n",
      "    \"name\" : \"DiscreteDistribution\",\n",
      "    \"parameters\" : [\n",
      "        {\n",
      "            \"Oui\" : 0.619672131147541,\n",
      "            \"Non\" : 0.380327868852459\n",
      "        }\n",
      "    ],\n",
      "    \"frozen\" : false\n",
      "}\n",
      "rh Janet\n",
      "comptabilite Jules\n",
      "notice lettre\n"
     ]
    }
   ],
   "source": [
    "beliefs = G.predict_proba({'notice': 'lettre','rh': 'Janet','comptabilite': 'Jules'})\n",
    "beliefs = map(str, beliefs)\n",
    "for state, belief in zip(G.states, beliefs):\n",
    "    print(state.name, belief)"
   ]
  },
  {
   "cell_type": "markdown",
   "metadata": {},
   "source": [
    "## **RESULTAT :** Le resultat nous indique que Jeremy qui a reçu une lettre de Janet et de Jules a 62% de chances que ca soit un licenciement "
   ]
  },
  {
   "cell_type": "markdown",
   "metadata": {},
   "source": [
    "__________________________________________________________________________\n",
    "## **Q2 :** Et s’il a reçu une lettre de Jim et James ?"
   ]
  },
  {
   "cell_type": "code",
   "execution_count": 7,
   "metadata": {},
   "outputs": [
    {
     "name": "stdout",
     "output_type": "stream",
     "text": [
      "licenciement {\n",
      "    \"class\" : \"Distribution\",\n",
      "    \"dtype\" : \"str\",\n",
      "    \"name\" : \"DiscreteDistribution\",\n",
      "    \"parameters\" : [\n",
      "        {\n",
      "            \"Oui\" : 0.6065573770491803,\n",
      "            \"Non\" : 0.3934426229508198\n",
      "        }\n",
      "    ],\n",
      "    \"frozen\" : false\n",
      "}\n",
      "rh Jim\n",
      "comptabilite James\n",
      "notice lettre\n"
     ]
    }
   ],
   "source": [
    "beliefs = G.predict_proba({'notice': 'lettre','rh': 'Jim','comptabilite': 'James'})\n",
    "beliefs = map(str, beliefs)\n",
    "for state, belief in zip(G.states, beliefs):\n",
    "    print(state.name, belief)"
   ]
  },
  {
   "cell_type": "markdown",
   "metadata": {},
   "source": [
    "## **RESULTAT :** Le resultat nous indique que si Jeremy avait reçu une lettre de JIm et James, il aurait 60.5 % de chances de recevoir une lettre de licenciment. "
   ]
  },
  {
   "cell_type": "markdown",
   "metadata": {},
   "source": [
    "_________________________________________________________________________\n",
    "## **Q3 :**  Si tout ce que Jeremy sait, c’est que Julia est en charge d’un dossier le concernant, quels sont ses risques d’être licencié ?"
   ]
  },
  {
   "cell_type": "code",
   "execution_count": 8,
   "metadata": {},
   "outputs": [
    {
     "name": "stdout",
     "output_type": "stream",
     "text": [
      "licenciement {\n",
      "    \"class\" : \"Distribution\",\n",
      "    \"dtype\" : \"str\",\n",
      "    \"name\" : \"DiscreteDistribution\",\n",
      "    \"parameters\" : [\n",
      "        {\n",
      "            \"Oui\" : 0.3684210526315789,\n",
      "            \"Non\" : 0.6315789473684211\n",
      "        }\n",
      "    ],\n",
      "    \"frozen\" : false\n",
      "}\n",
      "rh Julia\n",
      "comptabilite {\n",
      "    \"class\" : \"Distribution\",\n",
      "    \"dtype\" : \"str\",\n",
      "    \"name\" : \"DiscreteDistribution\",\n",
      "    \"parameters\" : [\n",
      "        {\n",
      "            \"James\" : 0.4015789473684212,\n",
      "            \"Jules\" : 0.5984210526315789\n",
      "        }\n",
      "    ],\n",
      "    \"frozen\" : false\n",
      "}\n",
      "notice {\n",
      "    \"class\" : \"Distribution\",\n",
      "    \"dtype\" : \"str\",\n",
      "    \"name\" : \"DiscreteDistribution\",\n",
      "    \"parameters\" : [\n",
      "        {\n",
      "            \"Mail\" : 0.5704736842105264,\n",
      "            \"Lettre\" : 0.42952631578947353\n",
      "        }\n",
      "    ],\n",
      "    \"frozen\" : false\n",
      "}\n"
     ]
    }
   ],
   "source": [
    "beliefs = G.predict_proba({'rh': 'Julia'})\n",
    "beliefs = map(str, beliefs)\n",
    "for state, belief in zip(G.states, beliefs):\n",
    "    print(state.name, belief)"
   ]
  },
  {
   "cell_type": "markdown",
   "metadata": {},
   "source": [
    "## **RESULTAT :** Si il sait suelement que c'est Julia qui ets en charge de son dossier, alors il a seulement 37% de chances d'etre licencié"
   ]
  },
  {
   "cell_type": "markdown",
   "metadata": {},
   "source": [
    "___________________________________________________________________________\n",
    "## **Q4 :**  Jeremy a reçu un mail ce matin, mais il ne sait pas qui a traité son dossier. Quelle probabilité a-t-il d’y lire une annonce d’augmentation de salaire ?"
   ]
  },
  {
   "cell_type": "code",
   "execution_count": 9,
   "metadata": {},
   "outputs": [
    {
     "name": "stdout",
     "output_type": "stream",
     "text": [
      "licenciement {\n",
      "    \"class\" : \"Distribution\",\n",
      "    \"dtype\" : \"str\",\n",
      "    \"name\" : \"DiscreteDistribution\",\n",
      "    \"parameters\" : [\n",
      "        {\n",
      "            \"Oui\" : 0.4790334104431272,\n",
      "            \"Non\" : 0.5209665895568728\n",
      "        }\n",
      "    ],\n",
      "    \"frozen\" : false\n",
      "}\n",
      "rh {\n",
      "    \"class\" : \"Distribution\",\n",
      "    \"dtype\" : \"str\",\n",
      "    \"name\" : \"DiscreteDistribution\",\n",
      "    \"parameters\" : [\n",
      "        {\n",
      "            \"Jim\" : 0.2626267431628098,\n",
      "            \"Julia\" : 0.5324988272300533,\n",
      "            \"Janet\" : 0.20487442960713706\n",
      "        }\n",
      "    ],\n",
      "    \"frozen\" : false\n",
      "}\n",
      "comptabilite {\n",
      "    \"class\" : \"Distribution\",\n",
      "    \"dtype\" : \"str\",\n",
      "    \"name\" : \"DiscreteDistribution\",\n",
      "    \"parameters\" : [\n",
      "        {\n",
      "            \"James\" : 0.5429269144877167,\n",
      "            \"Jules\" : 0.45707308551228326\n",
      "        }\n",
      "    ],\n",
      "    \"frozen\" : false\n",
      "}\n",
      "notice Mail\n"
     ]
    }
   ],
   "source": [
    "beliefs = G.predict_proba({'notice': 'Mail'})\n",
    "beliefs = map(str, beliefs)\n",
    "for state, belief in zip(G.states, beliefs):\n",
    "    print(state.name, belief)"
   ]
  },
  {
   "cell_type": "markdown",
   "metadata": {},
   "source": [
    "RESULTAT : Il a 52% de chances d'avoir une annonce pour une augumentation de salaire."
   ]
  },
  {
   "cell_type": "markdown",
   "metadata": {},
   "source": [
    "# **Enquête**"
   ]
  },
  {
   "cell_type": "code",
   "execution_count": 10,
   "metadata": {},
   "outputs": [],
   "source": [
    "from pomegranate import *\n",
    "\n",
    "#Nous créons le réseau :\n",
    "G = BayesianNetwork('BNTech')\n",
    "#On nous dit que le coupable a agit seul et il y a au total 100 employés\n",
    "coupable = DiscreteDistribution({'Oui': 0.01, 'Non': 0.99})\n",
    "\n",
    "#On nous dit que le coupable a 45% de chance de porter des gants (donc 55% de pas en porter)\n",
    "#On nous indique également que la probabilité de mettre des gants sans faire de cambriolage\n",
    "# peut être considérée comme nulle \n",
    "gant = ConditionalProbabilityTable(\n",
    "  [['Oui','Oui', 0.45],\n",
    "   ['Oui','Non', 0.55],\n",
    "   ['Non','Oui', 0.001],\n",
    "   ['Non','Non', 0.999]],\n",
    "   [coupable])\n",
    "\n",
    "'''\n",
    "empreinte = ConditionalProbabilityTable(\n",
    "  [['Oui','Oui', 0.02],\n",
    "   ['Oui','Non', 0.99],\n",
    "   ['Non','Oui', 0.98],\n",
    "   ['Non','Non', 0.01]],\n",
    "   [gant])\n",
    "\n",
    "empreinte = ConditionalProbabilityTable(\n",
    "  [['Oui','Oui', 0.95],\n",
    "   ['Oui','Non', 0],\n",
    "   ['Non','Oui', 0.05],\n",
    "   ['Non','Non', 1]],\n",
    "   [coupable])\n",
    "\n",
    "'''\n",
    "\n",
    "empreinte = ConditionalProbabilityTable(\n",
    "  [['Oui','Oui','Oui', 0.02],\n",
    "   ['Oui','Oui','Non',0.98 ],\n",
    "   \n",
    "   ['Oui','Non','Oui', 0.001], #\n",
    "   ['Oui','Non','Non', 0.999], #\n",
    "   \n",
    "   ['Non','Oui','Oui', 0.99],\n",
    "   ['Non','Oui','Non', 0.01],\n",
    "   \n",
    "   ['Non','Non','Oui', 0.05],\n",
    "   ['Non','Non','Non', 0.95]],\n",
    "   [gant,coupable])\n",
    "\n",
    "\n",
    "# On nous dit que les tests ADN ont 0.1% de faux négatifs et de faux positifs\n",
    "adn =  ConditionalProbabilityTable(\n",
    "  [['Oui','Oui', 0.999],\n",
    "   ['Oui','Non', 0.001],\n",
    "   ['Non','Oui', 0.001],\n",
    "   ['Non','Non', 0.999]],\n",
    "   [coupable])"
   ]
  },
  {
   "cell_type": "code",
   "execution_count": 11,
   "metadata": {},
   "outputs": [],
   "source": [
    "# Ensuite, il faut créer la structure du réseau:\n",
    "c = State(coupable, name = 'coupable')\n",
    "g = State(gant, name = 'gant')\n",
    "e = State(empreinte, name = 'empreinte')\n",
    "a = State(adn, name = 'adn')\n",
    "\n",
    "G.add_states(c,g,e,a)\n",
    "G.add_edge(c,g)\n",
    "G.add_edge(g,e)\n",
    "G.add_edge(c,e)\n",
    "G.add_edge(c,a)\n",
    "G.bake()"
   ]
  },
  {
   "cell_type": "code",
   "execution_count": 12,
   "metadata": {},
   "outputs": [
    {
     "name": "stdout",
     "output_type": "stream",
     "text": [
      "coupable {\n",
      "    \"class\" : \"Distribution\",\n",
      "    \"dtype\" : \"str\",\n",
      "    \"name\" : \"DiscreteDistribution\",\n",
      "    \"parameters\" : [\n",
      "        {\n",
      "            \"Oui\" : 0.000120432667393224,\n",
      "            \"Non\" : 0.9998795673326069\n",
      "        }\n",
      "    ],\n",
      "    \"frozen\" : false\n",
      "}\n",
      "gant {\n",
      "    \"class\" : \"Distribution\",\n",
      "    \"dtype\" : \"str\",\n",
      "    \"name\" : \"DiscreteDistribution\",\n",
      "    \"parameters\" : [\n",
      "        {\n",
      "            \"Non\" : 0.9988820227552336,\n",
      "            \"Oui\" : 0.0011179772447664452\n",
      "        }\n",
      "    ],\n",
      "    \"frozen\" : false\n",
      "}\n",
      "empreinte Non\n",
      "adn {\n",
      "    \"class\" : \"Distribution\",\n",
      "    \"dtype\" : \"str\",\n",
      "    \"name\" : \"DiscreteDistribution\",\n",
      "    \"parameters\" : [\n",
      "        {\n",
      "            \"Non\" : 0.9988798081979415,\n",
      "            \"Oui\" : 0.0011201918020584604\n",
      "        }\n",
      "    ],\n",
      "    \"frozen\" : false\n",
      "}\n"
     ]
    }
   ],
   "source": [
    "#En ce point, on n'a seulement les empreintes de Koul ne correspondent pas a celles trouvées \n",
    "# sur les lieux du cambriolage.\n",
    "beliefs = G.predict_proba({'empreinte': 'Non'})\n",
    "beliefs = map(str, beliefs)\n",
    "for state, belief in zip(G.states, beliefs):\n",
    "    print(state.name, belief)"
   ]
  },
  {
   "cell_type": "markdown",
   "metadata": {},
   "source": [
    "## La probabilité de culpabilité de Pierre Koul au point 1 est de moins de 0.05%\n",
    "--------------------------------------------------------------------------------------------"
   ]
  },
  {
   "cell_type": "code",
   "execution_count": 13,
   "metadata": {},
   "outputs": [
    {
     "name": "stdout",
     "output_type": "stream",
     "text": [
      "coupable {\n",
      "    \"class\" : \"Distribution\",\n",
      "    \"dtype\" : \"str\",\n",
      "    \"name\" : \"DiscreteDistribution\",\n",
      "    \"parameters\" : [\n",
      "        {\n",
      "            \"Oui\" : 0.9916997031989,\n",
      "            \"Non\" : 0.008300296801100013\n",
      "        }\n",
      "    ],\n",
      "    \"frozen\" : false\n",
      "}\n",
      "gant {\n",
      "    \"class\" : \"Distribution\",\n",
      "    \"dtype\" : \"str\",\n",
      "    \"name\" : \"DiscreteDistribution\",\n",
      "    \"parameters\" : [\n",
      "        {\n",
      "            \"Non\" : 0.023374300263427635,\n",
      "            \"Oui\" : 0.9766256997365723\n",
      "        }\n",
      "    ],\n",
      "    \"frozen\" : false\n",
      "}\n",
      "empreinte Non\n",
      "adn Oui\n"
     ]
    }
   ],
   "source": [
    "#En ce point on nous indique que ses cheveux correspondent a l'adn trouvé sur les lieux du crime\n",
    "beliefs = G.predict_proba({'empreinte':'Non','adn':'Oui'})\n",
    "beliefs = map(str, beliefs)\n",
    "for state, belief in zip(G.states, beliefs):\n",
    "    print(state.name, belief)"
   ]
  },
  {
   "cell_type": "markdown",
   "metadata": {},
   "source": [
    "## La probabilité de culpabilité de Pierre Koul au point 3 est de 0.99%\n",
    "--------------------------------------------------------------------------------------------"
   ]
  },
  {
   "cell_type": "code",
   "execution_count": 14,
   "metadata": {},
   "outputs": [
    {
     "name": "stdout",
     "output_type": "stream",
     "text": [
      "coupable {\n",
      "    \"class\" : \"Distribution\",\n",
      "    \"dtype\" : \"str\",\n",
      "    \"name\" : \"DiscreteDistribution\",\n",
      "    \"parameters\" : [\n",
      "        {\n",
      "            \"Oui\" : 0.05524861878472231,\n",
      "            \"Non\" : 0.9447513812152777\n",
      "        }\n",
      "    ],\n",
      "    \"frozen\" : false\n",
      "}\n",
      "gant Non\n",
      "empreinte Non\n",
      "adn Oui\n"
     ]
    }
   ],
   "source": [
    "#En ce point, l’hypothèse que Pierre portait des gants est écartée\n",
    "beliefs = G.predict_proba({\"empreinte\":\"Non\",'adn':'Oui',\"gant\":\"Non\"})\n",
    "beliefs = map(str, beliefs)\n",
    "for state, belief in zip(G.states, beliefs):\n",
    "    print(state.name, belief)"
   ]
  },
  {
   "cell_type": "markdown",
   "metadata": {},
   "source": [
    "## La probabilité de culpabilité de Pierre Koul au point 3 est de 5.5%\n",
    "--------------------------------------------------------------------------------------------"
   ]
  }
 ],
 "metadata": {
  "kernelspec": {
   "display_name": "Python 3",
   "language": "python",
   "name": "python3"
  },
  "language_info": {
   "codemirror_mode": {
    "name": "ipython",
    "version": 3
   },
   "file_extension": ".py",
   "mimetype": "text/x-python",
   "name": "python",
   "nbconvert_exporter": "python",
   "pygments_lexer": "ipython3",
   "version": "3.8.5"
  }
 },
 "nbformat": 4,
 "nbformat_minor": 4
}
