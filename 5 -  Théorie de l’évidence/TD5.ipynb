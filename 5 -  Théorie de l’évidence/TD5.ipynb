{
 "cells": [
  {
   "cell_type": "code",
   "execution_count": 1,
   "metadata": {},
   "outputs": [],
   "source": [
    "#Import de la librairie\n",
    "from pyds.pyds import MassFunction"
   ]
  },
  {
   "cell_type": "markdown",
   "metadata": {},
   "source": [
    "1. *Le dernier message ACARS suggère que l’avion pouvait être, peu avant de s’abîmer en mer, dans les secteurs NW, N, E, ou SE avec une masse de probabilité de 50%, dans C ou NE avec une masse de 30%, ou dans l’un des secteurs restants avec une masse de 20%.*"
   ]
  },
  {
   "cell_type": "code",
   "execution_count": 9,
   "metadata": {},
   "outputs": [
    {
     "name": "stdout",
     "output_type": "stream",
     "text": [
      "=== creating mass functions ===\n",
      "secteurs = {{'SE', 'N', 'E', 'NW'}:0.5; {'C', 'NE'}:0.3; {'S', 'SW', 'W'}:0.2}\n"
     ]
    }
   ],
   "source": [
    "print('=== creating mass functions ===')\n",
    "\n",
    "secteurs = MassFunction([({'NW', 'N', 'E','SE'}, 0.5), ({'C', 'NE'}, 0.3), ({'W','SW','S'}, 0.2)])\n",
    "print('secteurs =', secteurs)"
   ]
  },
  {
   "cell_type": "markdown",
   "metadata": {},
   "source": [
    "2. *Le retrouvement de débris sur le littoral africain est une évidence qui pointe au secteur SW (50%) ; cependant, on sait qu’il y a des courants qui vont de l’est à l’ouest dans cette partie de l’océan, donc il se porrait que les débris aient été transporté jusqu’aux côtes africaines des secteurs C ou S (30%) ou E ou SE (20%).*"
   ]
  },
  {
   "cell_type": "code",
   "execution_count": 10,
   "metadata": {},
   "outputs": [
    {
     "name": "stdout",
     "output_type": "stream",
     "text": [
      "debris = {{'SW'}:0.5; {'C', 'S'}:0.3; {'SE', 'E'}:0.2}\n"
     ]
    }
   ],
   "source": [
    "debris = MassFunction([({'SW'}, 0.5), ({'C', 'S'}, 0.3), ({'E','SE'}, 0.2)])\n",
    "print('debris =', debris)"
   ]
  },
  {
   "cell_type": "markdown",
   "metadata": {},
   "source": [
    "3. *Infin, l’observation douteuse de l’appareil volant à basse altitude aux Maldives est estimée apporter une masse de 10% à une localisation de l’épave dans le secteur W et une masse de 90% partout (y compris le secteur W).*"
   ]
  },
  {
   "cell_type": "code",
   "execution_count": 11,
   "metadata": {},
   "outputs": [
    {
     "name": "stdout",
     "output_type": "stream",
     "text": [
      "localisation = {{'W', 'C', 'S', 'E', 'SE', 'SW', 'NW', 'NE', 'N'}:0.9; {'W'}:0.1}\n"
     ]
    }
   ],
   "source": [
    "localisation = MassFunction([({'W'}, 0.1), ({'NW','N','NE','W','SW','C', 'S','E','SE'}, 0.9)])\n",
    "print('localisation =', localisation)"
   ]
  },
  {
   "cell_type": "markdown",
   "metadata": {},
   "source": [
    "4. *Dans quel secteur faudrait-il concentrer les recherches ? Suggestion : il faudra d’abord combiner les différentes sources d’évidence, puis calculer les probabilités pignistiques.*"
   ]
  },
  {
   "cell_type": "code",
   "execution_count": 6,
   "metadata": {},
   "outputs": [
    {
     "name": "stdout",
     "output_type": "stream",
     "text": [
      "unnormalized conjunctive combination of secteurs, localisation, and debris = {set():0.7130000000000003; {'SW'}:0.135; {'SE', 'E'}:0.09000000000000001; {'C'}:0.081; {'S'}:0.081}\n"
     ]
    }
   ],
   "source": [
    "print('unnormalized conjunctive combination of secteurs, localisation, and debris =', secteurs.combine_conjunctive([debris, localisation], normalization=False))\n",
    "combined =secteurs.combine_conjunctive([debris, localisation], normalization=False)"
   ]
  },
  {
   "cell_type": "code",
   "execution_count": 7,
   "metadata": {},
   "outputs": [
    {
     "name": "stdout",
     "output_type": "stream",
     "text": [
      "pignistic transformation of the combinaison =\n"
     ]
    },
    {
     "data": {
      "text/plain": [
       "{frozenset({'SE'}): 0.11627906976744187,\n",
       " frozenset({'E'}): 0.11627906976744187,\n",
       " frozenset({'C'}): 0.20930232558139536,\n",
       " frozenset({'SW'}): 0.3488372093023256,\n",
       " frozenset({'S'}): 0.20930232558139536}"
      ]
     },
     "execution_count": 7,
     "metadata": {},
     "output_type": "execute_result"
    }
   ],
   "source": [
    "print('pignistic transformation of the combinaison =')\n",
    "combined.pignistic()"
   ]
  },
  {
   "cell_type": "markdown",
   "metadata": {},
   "source": [
    "### **Le secteur ou il faudrait concentrer ses recherches se situe en SW.** "
   ]
  },
  {
   "cell_type": "markdown",
   "metadata": {},
   "source": [
    "5. *En quelle mesure ces conclusions sont sensibles aux hypothèses de distribution des trois masses ? Est-ce que des petites erreurs d’estimation de ces masses (on va dire comprises dans le 5% en plus ou en moins) pourraient faire changer drastiquement le résultat ?*"
   ]
  },
  {
   "cell_type": "code",
   "execution_count": 13,
   "metadata": {},
   "outputs": [
    {
     "name": "stdout",
     "output_type": "stream",
     "text": [
      "=== creating mass functions ===\n",
      "secteurs = {{'SE', 'N', 'E', 'NW'}:0.55; {'S', 'SW', 'W'}:0.3; {'C', 'NE'}:0.25}\n",
      "debris = {{'SW'}:0.55; {'C', 'S'}:0.35; {'SE', 'E'}:0.1}\n",
      "localisation = {{'W', 'C', 'S', 'E', 'SE', 'SW', 'NW', 'NE', 'N'}:0.9; {'W'}:0.1}\n",
      "unnormalized conjunctive combination of secteurs, localisation, and debris = {set():0.72875; {'SW'}:0.14850000000000002; {'S'}:0.0945; {'C'}:0.07875; {'SE', 'E'}:0.04950000000000001}\n",
      "pignistic transformation of the combinaison =\n"
     ]
    },
    {
     "data": {
      "text/plain": [
       "{frozenset({'SE'}): 0.06666666666666668,\n",
       " frozenset({'E'}): 0.06666666666666668,\n",
       " frozenset({'C'}): 0.2121212121212121,\n",
       " frozenset({'SW'}): 0.4,\n",
       " frozenset({'S'}): 0.2545454545454545}"
      ]
     },
     "execution_count": 13,
     "metadata": {},
     "output_type": "execute_result"
    }
   ],
   "source": [
    "print('=== creating mass functions ===')\n",
    "\n",
    "secteurs = MassFunction([({'NW', 'N', 'E','SE'}, 0.55), ({'C', 'NE'}, 0.25), ({'W','SW','S'}, 0.3)])\n",
    "print('secteurs =', secteurs)\n",
    "debris = MassFunction([({'SW'}, 0.55), ({'C', 'S'}, 0.35), ({'E','SE'}, 0.1)])\n",
    "print('debris =', debris)\n",
    "localisation = MassFunction([({'W'}, 0.1), ({'NW','N','NE','W','SW','C', 'S','E','SE'}, 0.9)])\n",
    "print('localisation =', localisation)\n",
    "print('unnormalized conjunctive combination of secteurs, localisation, and debris =', secteurs.combine_conjunctive([debris, localisation], normalization=False))\n",
    "combined =secteurs.combine_conjunctive([debris, localisation], normalization=False)\n",
    "print('pignistic transformation of the combinaison =')\n",
    "combined.pignistic()"
   ]
  },
  {
   "cell_type": "markdown",
   "metadata": {},
   "source": [
    "**On vient de changer quelques valeurs et les petites erreurs destimation n'affecte pas enormement le résultat final, mais les estimations changent malré tout, donc elles sont sensibles aux hypothèses de distribution.**"
   ]
  }
 ],
 "metadata": {
  "kernelspec": {
   "display_name": "Python 3",
   "language": "python",
   "name": "python3"
  },
  "language_info": {
   "codemirror_mode": {
    "name": "ipython",
    "version": 3
   },
   "file_extension": ".py",
   "mimetype": "text/x-python",
   "name": "python",
   "nbconvert_exporter": "python",
   "pygments_lexer": "ipython3",
   "version": "3.8.5"
  }
 },
 "nbformat": 4,
 "nbformat_minor": 4
}
