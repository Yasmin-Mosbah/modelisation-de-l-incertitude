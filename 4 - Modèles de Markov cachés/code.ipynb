{
 "cells": [
  {
   "cell_type": "code",
   "execution_count": 1,
   "metadata": {},
   "outputs": [
    {
     "name": "stdout",
     "output_type": "stream",
     "text": [
      "Requirement already satisfied: Cython in /home/deptinfo/.local/lib/python3.8/site-packages (0.29.21)\n",
      "Requirement already satisfied: pomegranate in /home/deptinfo/.local/lib/python3.8/site-packages (0.13.5)\n",
      "Requirement already satisfied: scipy>=0.17.0 in /home/deptinfo/.local/lib/python3.8/site-packages (from pomegranate) (1.5.4)\n",
      "Requirement already satisfied: numpy>=1.8.0 in /home/deptinfo/.local/lib/python3.8/site-packages (from pomegranate) (1.19.4)\n",
      "Requirement already satisfied: joblib>=0.9.0b4 in /home/deptinfo/.local/lib/python3.8/site-packages (from pomegranate) (0.17.0)\n",
      "Requirement already satisfied: pyyaml in /usr/lib/python3/dist-packages (from pomegranate) (5.3.1)\n",
      "Requirement already satisfied: networkx>=2.0 in /home/deptinfo/.local/lib/python3.8/site-packages (from pomegranate) (2.5)\n",
      "Requirement already satisfied: decorator>=4.3.0 in /home/deptinfo/.local/lib/python3.8/site-packages (from networkx>=2.0->pomegranate) (4.4.2)\n"
     ]
    }
   ],
   "source": [
    "!pip3 install Cython\n",
    "!pip3 install pomegranate\n",
    "#Nous allons commencer par importer du module Pomegranate les éléments dont nous aurons besoin :\n",
    "from pomegranate import *\n",
    "from pomegranate import HiddenMarkovModel as Model"
   ]
  },
  {
   "cell_type": "code",
   "execution_count": 2,
   "metadata": {},
   "outputs": [],
   "source": [
    "#Import d'outils pythons\n",
    "import random\n",
    "import operator\n",
    "import math\n",
    "import pandas as pd\n",
    "import numpy "
   ]
  },
  {
   "cell_type": "markdown",
   "metadata": {},
   "source": [
    "Code récupéré du tp1 pour récupérer les séries des rendements journaliers discrétisés en\n",
    "{−1, 0, +1}"
   ]
  },
  {
   "cell_type": "code",
   "execution_count": 3,
   "metadata": {},
   "outputs": [
    {
     "name": "stderr",
     "output_type": "stream",
     "text": [
      "/home/deptinfo/.local/lib/python3.8/site-packages/pandas/core/indexing.py:670: SettingWithCopyWarning: \n",
      "A value is trying to be set on a copy of a slice from a DataFrame\n",
      "\n",
      "See the caveats in the documentation: https://pandas.pydata.org/pandas-docs/stable/user_guide/indexing.html#returning-a-view-versus-a-copy\n",
      "  iloc._setitem_with_indexer(indexer, value)\n"
     ]
    }
   ],
   "source": [
    "#Import dataset  de la Bourse de Paris\n",
    "dataParis =  pd.read_csv(\"^FCHI.csv\")\n",
    "#Import dataset de la Bourse de Francfort\n",
    "dataFrancfort = pd.read_csv(\"^GDAXI.csv\")\n",
    "#Import dataset  de la Bourse de NewYork\n",
    "dataNY =  pd.read_csv(\"^DJI.csv\")\n",
    "#Import dataset  de la Bourse de societe Hi-tech\n",
    "dataHiTech =  pd.read_csv(\"^IXIC.csv\")\n",
    "##On voit que les 2 dataset n'ont pas le même nombre de lignes donc pour les prochaines calcules ont va fusionner nos dataframe avec la date et remplir les trous\n",
    "adjNYDate = dataNY[[\"Date\",\"Adj Close\"]]\n",
    "adjParisDate = dataParis[[\"Date\",\"Adj Close\"]]\n",
    "adjFCDate = dataFrancfort[[\"Date\",\"Adj Close\"]]\n",
    "adjHiTechDate = dataHiTech[[\"Date\",\"Adj Close\"]]\n",
    "\n",
    "# ON renomme les colonnes pour savoir a qui correspond les données\n",
    "adjNYDate = adjNYDate.rename(columns={\"Adj Close\": \"NY Adj Close\"})\n",
    "adjParisDate = adjParisDate.rename(columns={\"Adj Close\": \"Paris Adj Close\"})\n",
    "adjFCDate = adjFCDate.rename(columns={\"Adj Close\": \"FC Adj Close\"})\n",
    "adjHiTechDate = adjHiTechDate.rename(columns={\"Adj Close\": \"HT Adj Close\"})\n",
    "\n",
    "adjParisNY = pd.merge(adjParisDate, adjNYDate, how='outer')\n",
    "adjHTFC = pd.merge(adjHiTechDate,adjFCDate, how='outer')\n",
    "adjAll = pd.merge(adjHTFC,adjParisNY, how='outer')\n",
    "\n",
    "##On remplace les NaN avec les valeurs au alentour\n",
    "def isNan(data, column):\n",
    "    for i in range(len(data)-1):\n",
    "        if math.isnan(data[column].loc[i]) :\n",
    "            if i == 0 :\n",
    "                data[column].loc[i] = data[column].loc[i+4]\n",
    "            elif i < len(data):\n",
    "                data[column].loc[i] = data[column].loc[i+1]\n",
    "            else : \n",
    "                data[column].loc[i] = data[column].loc[i-1]\n",
    "    return data\n",
    "##On applique la fct\n",
    "adjAll = isNan(adjAll,\"Paris Adj Close\")\n",
    "adjAll = isNan(adjAll,\"NY Adj Close\")\n",
    "adjAll = isNan(adjAll,\"FC Adj Close\")\n",
    "adjAll = isNan(adjAll,\"HT Adj Close\")\n",
    "\n",
    "##On fait des dataset contenant que la colonne qui nous interesse\n",
    "adjParis = adjAll[\"Paris Adj Close\"]\n",
    "adjNY = adjAll[\"NY Adj Close\"]\n",
    "adjFC = adjAll[\"FC Adj Close\"]\n",
    "adjHT = adjAll[\"HT Adj Close\"]\n",
    "\n",
    "# +1 signifie que la valeur de l’indice a augmenté, −1 qu’elle a diminué et 0 qu’il\n",
    "# n’y a pas eu de mouvement digne de note\n",
    "def createSerie(adj):\n",
    "    serie = []\n",
    "\n",
    "    for i in range(len(adj)):\n",
    "        if i == 0 :\n",
    "            serie.append(\"0\")\n",
    "        else :\n",
    "            ln = math.log(adj[i]/adj[i-1])\n",
    "            if ln > 0.005 :\n",
    "                serie.append(\"1\")\n",
    "            elif ln <= 0.005 and ln >= -0.005 :\n",
    "                serie.append(\"0\")\n",
    "            else :\n",
    "                serie.append(\"-1\")\n",
    "    return serie\n",
    "\n",
    "serieParis = createSerie(adjParis)\n",
    "serieNY = createSerie(adjNY)\n",
    "serieFC = createSerie(adjFC)\n",
    "serieHT = createSerie(adjHT)"
   ]
  },
  {
   "cell_type": "markdown",
   "metadata": {},
   "source": [
    "\"Le modèle qu’on construira ne pourrait être plus simple : on fera l’hypothèse qu’il n’existent que deux tendances : à la hausse (bullish, du taureau, dans le jargon des traders) et à la baisse (bearish, de l’ours). Ces deux tendances sont les deux états “cachés” (non observables directement) de notre MMC ; les variations quotidiennes sont les observations “émises” par chaque tendance, suivant sa propre distribution de probabilité.\""
   ]
  },
  {
   "cell_type": "markdown",
   "metadata": {},
   "source": [
    "1. Construisez avec Pomegranate le MMC décrit ci-dessus. Pour commencer, vous mettrez des probabilités arbitraires. Attention : pour quelque raison mistérieuse, Pomegranate ajoute toujours un état initial start et un état final end même si vous dites expressément au constructeur de la classe HiddenMarkovModel que vous ne les voulez pas. Il suffit alors d’ajouter une transition de probabilité 1/2 de start à bullish ainsi que de start à bearish."
   ]
  },
  {
   "cell_type": "code",
   "execution_count": 4,
   "metadata": {},
   "outputs": [],
   "source": [
    "bullish = DiscreteDistribution({'-1' : 0.25, '0' : 0.40,  '1' : 0.35})\n",
    "bearish = DiscreteDistribution({'-1' : 0.30, '0' : 0.55, '1' : 0.15 })"
   ]
  },
  {
   "cell_type": "code",
   "execution_count": 5,
   "metadata": {},
   "outputs": [],
   "source": [
    "s1 = State( bullish , name=\"bullish\" )\n",
    "s2 = State( bearish, name=\"bearish\" )"
   ]
  },
  {
   "cell_type": "code",
   "execution_count": 6,
   "metadata": {},
   "outputs": [],
   "source": [
    "model = HiddenMarkovModel('bourse')\n",
    "model.add_states([s1, s2])\n",
    "model.add_transition( model.start, s1, 0.50 )\n",
    "model.add_transition( model.start, s2, 0.50 )\n",
    "model.add_transition( s1, s1, 0.80 )\n",
    "model.add_transition( s1, s2, 0.20 )\n",
    "model.add_transition( s2, s2, 0.90 )\n",
    "model.add_transition( s2, s1, 0.10 )\n",
    "model.add_transition( s1, model.end, 0.50 )\n",
    "model.add_transition( s2, model.end, 0.50 )\n",
    "model.bake()"
   ]
  },
  {
   "cell_type": "markdown",
   "metadata": {},
   "source": [
    "2. Créez, avec un petit script Python, une série historique de test, où vous allez simuler un marché qui alterne, sur un total di 1000 jours, 50 jours de taureau et 50 jours d’ours ; lorsque le marché est bullish,\n",
    "\n",
    "        P(st = −1) = 0.2, P(st = 0) = 0.3, P(st = +1) = 0.5,\n",
    "\n",
    "        et lorsqu’il est bearish,\n",
    "\n",
    "        P(st = −1) = 0.5, P(st = 0) = 0.2, P(st = +1) = 0.3."
   ]
  },
  {
   "cell_type": "code",
   "execution_count": 7,
   "metadata": {},
   "outputs": [],
   "source": [
    "etat = []\n",
    "marche = []\n",
    "bu = ['bullish']*50\n",
    "be = ['bearish']*50\n",
    "d = bu + be\n",
    "for i in range(10) :\n",
    "    etat = etat + d\n",
    "\n",
    "for j in range(len(etat)):\n",
    "    if etat[j] == \"bullish\":\n",
    "        #P(st = −1) = 0.2, P(st = 0) = 0.3, P(st = +1) = 0.5,  \n",
    "        p = ['-1','-1','0','0','0','1','1','1','1','1']\n",
    "        marche.append(random.choice(p)) \n",
    "    elif etat[j] ==\"bearish\" :\n",
    "        #P(st = −1) = 0.5, P(st = 0) = 0.2, P(st = +1) = 0.3.\n",
    "        p = ['-1','-1','-1','-1','-1','0','0','1','1']\n",
    "        marche.append(random.choice(p))    "
   ]
  },
  {
   "cell_type": "markdown",
   "metadata": {},
   "source": [
    "3. Entraînez le MMC (méthode fit) avec cette série de test. Une fois entraîné, le MMC devrait reconnaître (méthode viterbi) les deux tendances, au fur et à mesure qu’elles s’alternent. Vérifiez aussi que les probabilités d’émission des deux états reflètent bien les paramètres que vous avez utilisé pour produire la série de test."
   ]
  },
  {
   "cell_type": "code",
   "execution_count": 8,
   "metadata": {},
   "outputs": [
    {
     "name": "stdout",
     "output_type": "stream",
     "text": [
      "bullish :  [{'-1': 0.20297951582867785, '0': 0.2905027932960894, '1': 0.5065176908752328}]\n",
      "bearish :  [{'-1': 0.5809935205183585, '0': 0.21166306695464362, '1': 0.20734341252699784}]\n"
     ]
    }
   ],
   "source": [
    "#La modélisation semble très bien fonctionner avec la serie teste car on retrouve les probabilités généré dans la serie soit ;\n",
    "# Bullish : P(st = −1) = 0.2, P(st = 0) = 0.3, P(st = +1) = 0.5,\n",
    "# Bearish : P(st = −1) = 0.5, P(st = 0) = 0.2, P(st = +1) = 0.3.\n",
    "sequence = list(numpy.asarray(marche))\n",
    "model.fit([sequence], algorithm='viterbi')\n",
    "model.viterbi(marche)\n",
    "print(\"bullish : \" , bullish.parameters)\n",
    "print(\"bearish : \" ,bearish.parameters)"
   ]
  },
  {
   "cell_type": "code",
   "execution_count": 15,
   "metadata": {},
   "outputs": [],
   "source": [
    "#print(\", \".join( state.name for i, state in model.viterbi(marche)[1] ))"
   ]
  },
  {
   "cell_type": "markdown",
   "metadata": {},
   "source": [
    "4. Maintenant, appliquez le MMC aux séries réelles (celles que vous avez obtenues lors du TD n◦ 1). Cela veut dire entraîner le MMC avec une série, puis lui faire reconnaître les tendances sur la même série."
   ]
  },
  {
   "cell_type": "code",
   "execution_count": 18,
   "metadata": {},
   "outputs": [],
   "source": [
    "##Fct qui va permettre d'appliquer le modèle aux series. \n",
    "def mmcseries(data) :\n",
    "    bullish = DiscreteDistribution({'-1' : 0.25, '0' : 0.40,  '1' : 0.35})\n",
    "    bearish = DiscreteDistribution({'-1' : 0.30, '0' : 0.55, '1' : 0.15 })\n",
    "    s1 = State( bullish , name=\"bullish\" )\n",
    "    s2 = State( bearish, name=\"bearish\" )\n",
    "    model = HiddenMarkovModel('bourse')\n",
    "    model.add_states([s1, s2])\n",
    "    model.add_transition( model.start, s1, 0.50 )\n",
    "    model.add_transition( model.start, s2, 0.50 )\n",
    "    model.add_transition( s1, s1, 0.80 )\n",
    "    model.add_transition( s1, s2, 0.20 )\n",
    "    model.add_transition( s2, s2, 0.90 )\n",
    "    model.add_transition( s2, s1, 0.10 )\n",
    "    model.add_transition( s1, model.end, 0.50 )\n",
    "    model.add_transition( s2, model.end, 0.50 )\n",
    "    model.bake()\n",
    "    sequence = list(numpy.asarray(data))\n",
    "    model.fit([sequence], algorithm='viterbi')\n",
    "    model.viterbi(data)\n",
    "    print(\"bullish : \" , bullish.parameters)\n",
    "    print(\"bearish : \" ,bearish.parameters)\n",
    "    print(\", \".join( state.name for i, state in model.viterbi(data)[1] ))"
   ]
  },
  {
   "cell_type": "code",
   "execution_count": 19,
   "metadata": {},
   "outputs": [
    {
     "name": "stdout",
     "output_type": "stream",
     "text": [
      "bullish :  [{'-1': 0.29936305732484075, '0': 0.16560509554140126, '1': 0.535031847133758}]\n",
      "bearish :  [{'-1': 0.28846153846153844, '0': 0.4423076923076923, '1': 0.2692307692307692}]\n",
      "bourse-start, bearish, bearish, bearish, bearish, bearish, bearish, bearish, bearish, bearish, bearish, bearish, bearish, bearish, bearish, bearish, bearish, bearish, bearish, bearish, bearish, bearish, bearish, bearish, bearish, bearish, bearish, bearish, bearish, bearish, bearish, bearish, bearish, bearish, bearish, bearish, bearish, bearish, bearish, bearish, bearish, bearish, bearish, bearish, bearish, bearish, bearish, bearish, bearish, bearish, bearish, bearish, bearish, bearish, bearish, bearish, bearish, bearish, bearish, bearish, bearish, bearish, bearish, bearish, bearish, bearish, bearish, bearish, bearish, bearish, bearish, bearish, bearish, bearish, bullish, bullish, bullish, bullish, bullish, bullish, bullish, bullish, bullish, bullish, bullish, bullish, bullish, bullish, bullish, bullish, bullish, bullish, bullish, bullish, bullish, bullish, bullish, bullish, bullish, bullish, bullish, bullish, bullish, bullish, bullish, bullish, bullish, bullish, bullish, bullish, bullish, bullish, bullish, bullish, bullish, bullish, bullish, bullish, bullish, bullish, bullish, bullish, bullish, bullish, bullish, bullish, bullish, bullish, bullish, bullish, bullish, bullish, bullish, bullish, bullish, bullish, bullish, bullish, bullish, bullish, bullish, bullish, bullish, bullish, bullish, bullish, bullish, bullish, bullish, bullish, bullish, bullish, bullish, bullish, bullish, bullish, bullish, bullish, bullish, bullish, bullish, bullish, bullish, bullish, bullish, bullish, bullish, bullish, bullish, bullish, bullish, bullish, bullish, bullish, bullish, bullish, bullish, bullish, bullish, bullish, bullish, bullish, bullish, bullish, bullish, bullish, bullish, bullish, bullish, bullish, bullish, bullish, bullish, bullish, bullish, bullish, bullish, bullish, bullish, bullish, bullish, bullish, bullish, bullish, bullish, bullish, bullish, bullish, bullish, bullish, bullish, bullish, bullish, bullish, bullish, bullish, bullish, bullish, bullish, bullish, bullish, bullish, bullish, bullish, bullish, bullish, bullish, bullish, bullish, bullish, bullish, bearish, bearish, bearish, bearish, bearish, bearish, bearish, bearish, bearish, bearish, bearish, bearish, bearish, bearish, bearish, bearish, bearish, bearish, bearish, bearish, bearish, bearish, bearish, bearish, bearish, bearish, bearish, bearish, bearish, bearish, bearish, bourse-end\n"
     ]
    }
   ],
   "source": [
    "mmcseries(serieHT) "
   ]
  },
  {
   "cell_type": "markdown",
   "metadata": {},
   "source": [
    "<img src=\"^IXIC.png\">"
   ]
  },
  {
   "cell_type": "markdown",
   "metadata": {},
   "source": [
    "Le modèle n'a pas l'air de très bien fonctionner ici"
   ]
  },
  {
   "cell_type": "code",
   "execution_count": 20,
   "metadata": {},
   "outputs": [
    {
     "name": "stdout",
     "output_type": "stream",
     "text": [
      "bullish :  [{'-1': 0.3153153153153153, '0': 0.1891891891891892, '1': 0.4954954954954955}]\n",
      "bearish :  [{'-1': 0.2733333333333333, '0': 0.4666666666666667, '1': 0.26}]\n",
      "bourse-start, bearish, bearish, bearish, bearish, bearish, bearish, bearish, bearish, bearish, bearish, bearish, bearish, bearish, bearish, bearish, bearish, bearish, bearish, bearish, bearish, bearish, bearish, bearish, bearish, bearish, bearish, bearish, bearish, bearish, bearish, bearish, bearish, bearish, bearish, bearish, bearish, bearish, bearish, bearish, bearish, bearish, bearish, bearish, bearish, bearish, bearish, bearish, bearish, bearish, bearish, bearish, bearish, bearish, bearish, bearish, bearish, bearish, bearish, bearish, bearish, bearish, bearish, bearish, bearish, bearish, bearish, bearish, bearish, bearish, bearish, bearish, bearish, bearish, bearish, bullish, bullish, bullish, bullish, bullish, bullish, bullish, bullish, bullish, bullish, bullish, bullish, bullish, bullish, bullish, bullish, bullish, bullish, bullish, bullish, bullish, bullish, bullish, bullish, bullish, bullish, bullish, bullish, bullish, bullish, bullish, bullish, bullish, bullish, bullish, bullish, bullish, bullish, bullish, bullish, bullish, bullish, bullish, bullish, bullish, bullish, bullish, bullish, bullish, bullish, bullish, bullish, bullish, bullish, bullish, bullish, bullish, bullish, bullish, bullish, bullish, bullish, bullish, bullish, bullish, bullish, bullish, bullish, bullish, bullish, bullish, bullish, bullish, bullish, bullish, bullish, bullish, bullish, bullish, bullish, bullish, bullish, bullish, bullish, bullish, bullish, bullish, bullish, bullish, bullish, bullish, bullish, bullish, bullish, bearish, bearish, bearish, bearish, bearish, bearish, bearish, bearish, bearish, bearish, bearish, bearish, bearish, bearish, bearish, bearish, bearish, bearish, bearish, bearish, bearish, bearish, bearish, bearish, bearish, bearish, bearish, bearish, bearish, bearish, bearish, bearish, bearish, bearish, bearish, bearish, bearish, bearish, bearish, bearish, bearish, bearish, bearish, bearish, bearish, bearish, bearish, bearish, bearish, bearish, bearish, bearish, bearish, bearish, bearish, bearish, bearish, bearish, bearish, bearish, bearish, bearish, bearish, bearish, bearish, bearish, bearish, bearish, bearish, bearish, bearish, bearish, bearish, bearish, bearish, bearish, bullish, bullish, bullish, bullish, bullish, bullish, bullish, bullish, bullish, bullish, bullish, bullish, bullish, bullish, bullish, bullish, bullish, bourse-end\n"
     ]
    }
   ],
   "source": [
    "mmcseries(serieFC) "
   ]
  },
  {
   "cell_type": "markdown",
   "metadata": {},
   "source": [
    "<img src=\"^GDAXI.png\">"
   ]
  },
  {
   "cell_type": "markdown",
   "metadata": {},
   "source": [
    "Le modèle a l'air d'ete fidèle a la courbe mais avec un certaine décalage"
   ]
  },
  {
   "cell_type": "code",
   "execution_count": 21,
   "metadata": {},
   "outputs": [
    {
     "name": "stdout",
     "output_type": "stream",
     "text": [
      "bullish :  [{'-1': 0.33640552995391704, '0': 0.2903225806451613, '1': 0.37327188940092165}]\n",
      "bearish :  [{'-1': 0.11363636363636363, '0': 0.7045454545454546, '1': 0.18181818181818182}]\n",
      "bourse-start, bearish, bearish, bearish, bearish, bearish, bearish, bearish, bearish, bearish, bearish, bearish, bearish, bearish, bearish, bearish, bearish, bearish, bearish, bearish, bearish, bearish, bearish, bearish, bearish, bearish, bearish, bearish, bearish, bearish, bearish, bearish, bearish, bearish, bearish, bearish, bearish, bearish, bearish, bearish, bearish, bearish, bearish, bearish, bearish, bullish, bullish, bullish, bullish, bullish, bullish, bullish, bullish, bullish, bullish, bullish, bullish, bullish, bullish, bullish, bullish, bullish, bullish, bullish, bullish, bullish, bullish, bullish, bullish, bullish, bullish, bullish, bullish, bullish, bullish, bullish, bullish, bullish, bullish, bullish, bullish, bullish, bullish, bullish, bullish, bullish, bullish, bullish, bullish, bullish, bullish, bullish, bullish, bullish, bullish, bullish, bullish, bullish, bullish, bullish, bullish, bullish, bullish, bullish, bullish, bullish, bullish, bullish, bullish, bullish, bullish, bullish, bullish, bullish, bullish, bullish, bullish, bullish, bullish, bullish, bullish, bullish, bullish, bullish, bullish, bullish, bullish, bullish, bullish, bullish, bullish, bullish, bullish, bullish, bullish, bullish, bullish, bullish, bullish, bullish, bullish, bullish, bullish, bullish, bullish, bullish, bullish, bullish, bullish, bullish, bullish, bullish, bullish, bullish, bullish, bullish, bullish, bullish, bullish, bullish, bullish, bullish, bullish, bullish, bullish, bullish, bullish, bullish, bullish, bullish, bullish, bullish, bullish, bullish, bullish, bullish, bullish, bullish, bullish, bullish, bullish, bullish, bullish, bullish, bullish, bullish, bullish, bullish, bullish, bullish, bullish, bullish, bullish, bullish, bullish, bullish, bullish, bullish, bullish, bullish, bullish, bullish, bullish, bullish, bullish, bullish, bullish, bullish, bullish, bullish, bullish, bullish, bullish, bullish, bullish, bullish, bullish, bullish, bullish, bullish, bullish, bullish, bullish, bullish, bullish, bullish, bullish, bullish, bullish, bullish, bullish, bullish, bullish, bullish, bullish, bullish, bullish, bullish, bullish, bullish, bullish, bullish, bullish, bullish, bullish, bullish, bullish, bullish, bullish, bullish, bullish, bullish, bullish, bullish, bullish, bullish, bullish, bullish, bullish, bullish, bullish, bullish, bourse-end\n"
     ]
    }
   ],
   "source": [
    "mmcseries(serieParis)"
   ]
  },
  {
   "cell_type": "markdown",
   "metadata": {},
   "source": [
    "<img src=\"^FCHI.png\">"
   ]
  },
  {
   "cell_type": "markdown",
   "metadata": {},
   "source": [
    "Le modèle fonctionne très bien avec cette serie."
   ]
  },
  {
   "cell_type": "code",
   "execution_count": 22,
   "metadata": {},
   "outputs": [
    {
     "name": "stdout",
     "output_type": "stream",
     "text": [
      "bullish :  [{'-1': 0.3443396226415094, '0': 0.25943396226415094, '1': 0.39622641509433965}]\n",
      "bearish :  [{'-1': 0.12244897959183673, '0': 0.6938775510204082, '1': 0.1836734693877551}]\n",
      "bourse-start, bearish, bearish, bearish, bearish, bearish, bearish, bearish, bearish, bearish, bearish, bearish, bearish, bearish, bearish, bearish, bearish, bearish, bearish, bearish, bearish, bearish, bearish, bearish, bearish, bearish, bearish, bearish, bearish, bearish, bearish, bearish, bearish, bearish, bearish, bearish, bearish, bearish, bearish, bearish, bearish, bearish, bearish, bearish, bearish, bearish, bearish, bearish, bearish, bullish, bullish, bullish, bullish, bullish, bullish, bullish, bullish, bullish, bullish, bullish, bullish, bullish, bullish, bullish, bullish, bullish, bullish, bullish, bullish, bullish, bullish, bullish, bullish, bullish, bullish, bullish, bullish, bullish, bullish, bullish, bullish, bullish, bullish, bullish, bullish, bullish, bullish, bullish, bullish, bullish, bullish, bullish, bullish, bullish, bullish, bullish, bullish, bullish, bullish, bullish, bullish, bullish, bullish, bullish, bullish, bullish, bullish, bullish, bullish, bullish, bullish, bullish, bullish, bullish, bullish, bullish, bullish, bullish, bullish, bullish, bullish, bullish, bullish, bullish, bullish, bullish, bullish, bullish, bullish, bullish, bullish, bullish, bullish, bullish, bullish, bullish, bullish, bullish, bullish, bullish, bullish, bullish, bullish, bullish, bullish, bullish, bullish, bullish, bullish, bullish, bullish, bullish, bullish, bullish, bullish, bullish, bullish, bullish, bullish, bullish, bullish, bullish, bullish, bullish, bullish, bullish, bullish, bullish, bullish, bullish, bullish, bullish, bullish, bullish, bullish, bullish, bullish, bullish, bullish, bullish, bullish, bullish, bullish, bullish, bullish, bullish, bullish, bullish, bullish, bullish, bullish, bullish, bullish, bullish, bullish, bullish, bullish, bullish, bullish, bullish, bullish, bullish, bullish, bullish, bullish, bullish, bullish, bullish, bullish, bullish, bullish, bullish, bullish, bullish, bullish, bullish, bullish, bullish, bullish, bullish, bullish, bullish, bullish, bullish, bullish, bullish, bullish, bullish, bullish, bullish, bullish, bullish, bullish, bullish, bullish, bullish, bullish, bullish, bullish, bullish, bullish, bullish, bullish, bullish, bullish, bullish, bullish, bullish, bullish, bullish, bullish, bullish, bullish, bullish, bullish, bullish, bullish, bullish, bullish, bullish, bullish, bearish, bourse-end\n"
     ]
    }
   ],
   "source": [
    "mmcseries(serieNY)"
   ]
  },
  {
   "cell_type": "markdown",
   "metadata": {},
   "source": [
    "<img src=\"^DJI.png\">"
   ]
  },
  {
   "cell_type": "markdown",
   "metadata": {},
   "source": [
    "Le model a l'air de plutot bien fonctionner\n",
    "Ce n'est pas super précis, mais on a la tendance (bullish ou bearish) qui fonctionne\n",
    "C'est un peu décalé mais ca reste fidèle."
   ]
  },
  {
   "cell_type": "code",
   "execution_count": null,
   "metadata": {},
   "outputs": [],
   "source": []
  }
 ],
 "metadata": {
  "kernelspec": {
   "display_name": "Python 3",
   "language": "python",
   "name": "python3"
  },
  "language_info": {
   "codemirror_mode": {
    "name": "ipython",
    "version": 3
   },
   "file_extension": ".py",
   "mimetype": "text/x-python",
   "name": "python",
   "nbconvert_exporter": "python",
   "pygments_lexer": "ipython3",
   "version": "3.8.5"
  }
 },
 "nbformat": 4,
 "nbformat_minor": 4
}
