{
 "cells": [
  {
   "cell_type": "code",
   "execution_count": 1,
   "metadata": {},
   "outputs": [],
   "source": [
    "import numpy as np"
   ]
  },
  {
   "cell_type": "markdown",
   "metadata": {},
   "source": [
    "# La théorie des possibilités"
   ]
  },
  {
   "cell_type": "code",
   "execution_count": 2,
   "metadata": {},
   "outputs": [
    {
     "name": "stdout",
     "output_type": "stream",
     "text": [
      "Probabilité récupéré du TD5: \n",
      "SW  : 0.28571428571428575\n",
      "C  : 0.2571428571428572\n",
      "S  : 0.17142857142857143\n",
      "E  : 0.14285714285714288\n",
      "SE  : 0.14285714285714288\n",
      "NW  : 0\n",
      "N  : 0\n",
      "NE  : 0\n",
      "W  : 0\n"
     ]
    }
   ],
   "source": [
    "print(\"Probabilité récupéré du TD5: \")\n",
    "secteurs = ['SW','C','S','E','SE','NW','N','NE','W']\n",
    "prob = [0.28571428571428575,0.2571428571428572,0.17142857142857143,0.14285714285714288,0.14285714285714288,0,0,0,0]\n",
    "\n",
    "for i in range(len(prob)):\n",
    "    print(secteurs[i], \" :\", prob[i])    "
   ]
  },
  {
   "cell_type": "markdown",
   "metadata": {},
   "source": [
    "Calcule de la distribution de possibilité πΣ correspondante : \n"
   ]
  },
  {
   "cell_type": "markdown",
   "metadata": {},
   "source": [
    "![slide16](./slide16.png)"
   ]
  },
  {
   "cell_type": "code",
   "execution_count": 5,
   "metadata": {},
   "outputs": [
    {
     "name": "stdout",
     "output_type": "stream",
     "text": [
      "Les possibilité calculé en fonction des secteurs :\n",
      "SW  : 1\n",
      "C  : 0.7142857142857144\n",
      "S  : 0.4571428571428572\n",
      "E  : 0.28571428571428575\n",
      "SE  : 0.28571428571428575\n",
      "NW  : 0\n",
      "N  : 0\n",
      "NE  : 0\n",
      "W  : 0\n"
     ]
    }
   ],
   "source": [
    "poss = []\n",
    "for indice,val in enumerate(prob) :\n",
    "    if indice == 0:\n",
    "        poss.append(1)\n",
    "    else :\n",
    "        if indice > 0 and  prob[indice-1] == val :\n",
    "            poss.append(poss[indice-1])\n",
    "        else :\n",
    "            poss.append(sum(prob[indice:]))\n",
    "            \n",
    "            \n",
    "print(\"Les possibilité calculé en fonction des secteurs :\")\n",
    "for i in range(len(poss)):\n",
    "    print(secteurs[i], \" :\", poss[i])   "
   ]
  },
  {
   "cell_type": "markdown",
   "metadata": {},
   "source": [
    "3. Calculez les mesures de possibilité et nécessité de chaque secteur.\n",
    "![slide15](./slide15.png)"
   ]
  },
  {
   "cell_type": "code",
   "execution_count": 6,
   "metadata": {},
   "outputs": [
    {
     "name": "stdout",
     "output_type": "stream",
     "text": [
      "-----------------\n",
      "La mesure de possibilté est :  1\n",
      "La mesure de necessité est :  0.0\n"
     ]
    }
   ],
   "source": [
    "np_poss = np.array(poss)\n",
    "\n",
    "#Calcule de la mesure de possibilité \n",
    "mesure_possibilite = max(poss)\n",
    "\n",
    "#Calcule de la mesure de necessité\n",
    "mesure_necessite = min(1 - np_poss)\n",
    "  \n",
    "print(\"-----------------\")\n",
    "print(\"La mesure de possibilté est : \" , mesure_possibilite)\n",
    "print(\"La mesure de necessité est : \" , mesure_necessite)"
   ]
  },
  {
   "cell_type": "markdown",
   "metadata": {},
   "source": [
    "4. Dans quel(s) secteur(s) ces mesures suggèrent-elles de concentrer les recherches ?"
   ]
  },
  {
   "cell_type": "markdown",
   "metadata": {},
   "source": [
    "**Le secteur le plus probable reste le secteur SW.** "
   ]
  },
  {
   "cell_type": "markdown",
   "metadata": {},
   "source": [
    "5. Comparez cette approche avec celle basée sur la théorie de l’évidence : est-ce que les résultats changent ? Quel des deux approche passerait mieux à l’échelle, si au lieu de neuf secteurs on en avait 100, 10mille ou 1 million ? Quelle est leur sensibilité aux hypothèses sur la distribution (de masse/possibilité) ?"
   ]
  },
  {
   "cell_type": "markdown",
   "metadata": {},
   "source": [
    "**Les résulats ne changent pas vraiment, mais je pense que la théorie des possibilités peut etre une théorie très interessantes lorsqu'on doit faire des recherches sur une grande quantités de secteurs. Par contre, la théorie de l'évidence est plus adapatée pour des recherches sur des petites plus petites echelles.**"
   ]
  }
 ],
 "metadata": {
  "kernelspec": {
   "display_name": "Python 3",
   "language": "python",
   "name": "python3"
  },
  "language_info": {
   "codemirror_mode": {
    "name": "ipython",
    "version": 3
   },
   "file_extension": ".py",
   "mimetype": "text/x-python",
   "name": "python",
   "nbconvert_exporter": "python",
   "pygments_lexer": "ipython3",
   "version": "3.8.5"
  }
 },
 "nbformat": 4,
 "nbformat_minor": 4
}
