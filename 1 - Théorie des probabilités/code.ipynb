{
 "cells": [
  {
   "cell_type": "code",
   "execution_count": 1,
   "metadata": {},
   "outputs": [],
   "source": [
    "#Import d'outils pythons\n",
    "import random\n",
    "import operator\n",
    "import math\n",
    "import pandas as pd\n",
    "import numpy "
   ]
  },
  {
   "cell_type": "markdown",
   "metadata": {},
   "source": [
    "# 1. On commence par récupéres les données "
   ]
  },
  {
   "cell_type": "code",
   "execution_count": 2,
   "metadata": {},
   "outputs": [],
   "source": [
    "#Import dataset  de la Bourse de Paris\n",
    "dataParis =  pd.read_csv(\"^FCHI.csv\")\n",
    "#Import dataset de la Bourse de Francfort\n",
    "dataFrancfort = pd.read_csv(\"^GDAXI.csv\")\n",
    "#Import dataset  de la Bourse de NewYork\n",
    "dataNY =  pd.read_csv(\"^DJI.csv\")\n",
    "\n",
    "#Import dataset  de la Bourse de societe Hi-tech\n",
    "dataHiTech =  pd.read_csv(\"^IXIC.csv\")"
   ]
  },
  {
   "cell_type": "markdown",
   "metadata": {},
   "source": [
    "# 2. Ne prenez en compte que la colonne Adj Close ; Remplissez les données manquantes en recopiant à chaque fois la donnée disponible la plus récente."
   ]
  },
  {
   "cell_type": "code",
   "execution_count": 3,
   "metadata": {},
   "outputs": [
    {
     "name": "stdout",
     "output_type": "stream",
     "text": [
      "253\n",
      "258\n"
     ]
    }
   ],
   "source": [
    "#On garde seulement la colonne \"Adj CLose\"\n",
    "adjParis = dataParis[\"Adj Close\"]\n",
    "#On a qu'une seule valeur manquante en position 30 donc on v la remplacer par celle en position 31\n",
    "\n",
    "#On garde seulement la colonne \"Adj CLose\"\n",
    "adjNY = dataNY[\"Adj Close\"]\n",
    "#Il n'y a pas de valeur manquante donc on continue sans rien changer\n",
    "\n",
    "##On verifie la longueur des deux dataset choisit \n",
    "print(len(dataNY))\n",
    "print(len(dataParis))"
   ]
  },
  {
   "cell_type": "code",
   "execution_count": 4,
   "metadata": {},
   "outputs": [],
   "source": [
    "##On voit que les 2 dataset n'ont pas le même nombre de lignes donc pour les prochaines calcules ont va fusionner nos dataframe avec la date et remplir les trous\n",
    "adjNYDate = dataNY[[\"Date\",\"Adj Close\"]]\n",
    "adjParisDate = dataParis[[\"Date\",\"Adj Close\"]]\n",
    "adjFCDate = dataFrancfort[[\"Date\",\"Adj Close\"]]\n",
    "adjHiTechDate = dataHiTech[[\"Date\",\"Adj Close\"]]\n",
    "\n",
    "# ON renomme les colonnes pour savoir a qui correspond les données\n",
    "adjNYDate = adjNYDate.rename(columns={\"Adj Close\": \"NY Adj Close\"})\n",
    "adjParisDate = adjParisDate.rename(columns={\"Adj Close\": \"Paris Adj Close\"})\n",
    "adjFCDate = adjFCDate.rename(columns={\"Adj Close\": \"FC Adj Close\"})\n",
    "adjHiTechDate = adjHiTechDate.rename(columns={\"Adj Close\": \"HT Adj Close\"})\n",
    "\n",
    "adjParisNY = pd.merge(adjParisDate, adjNYDate, how='outer')\n",
    "adjHTFC = pd.merge(adjHiTechDate,adjFCDate, how='outer')\n",
    "adjAll = pd.merge(adjHTFC,adjParisNY, how='outer')"
   ]
  },
  {
   "cell_type": "code",
   "execution_count": 48,
   "metadata": {},
   "outputs": [
    {
     "data": {
      "text/html": [
       "<div>\n",
       "<style scoped>\n",
       "    .dataframe tbody tr th:only-of-type {\n",
       "        vertical-align: middle;\n",
       "    }\n",
       "\n",
       "    .dataframe tbody tr th {\n",
       "        vertical-align: top;\n",
       "    }\n",
       "\n",
       "    .dataframe thead th {\n",
       "        text-align: right;\n",
       "    }\n",
       "</style>\n",
       "<table border=\"1\" class=\"dataframe\">\n",
       "  <thead>\n",
       "    <tr style=\"text-align: right;\">\n",
       "      <th></th>\n",
       "      <th>Date</th>\n",
       "      <th>HT Adj Close</th>\n",
       "      <th>FC Adj Close</th>\n",
       "      <th>Paris Adj Close</th>\n",
       "      <th>NY Adj Close</th>\n",
       "    </tr>\n",
       "  </thead>\n",
       "  <tbody>\n",
       "    <tr>\n",
       "      <th>0</th>\n",
       "      <td>2019-11-13</td>\n",
       "      <td>8482.099609</td>\n",
       "      <td>13221.120117</td>\n",
       "      <td>5907.089844</td>\n",
       "      <td>27783.589844</td>\n",
       "    </tr>\n",
       "    <tr>\n",
       "      <th>1</th>\n",
       "      <td>2019-11-14</td>\n",
       "      <td>8479.019531</td>\n",
       "      <td>13241.750000</td>\n",
       "      <td>5901.080078</td>\n",
       "      <td>27781.960938</td>\n",
       "    </tr>\n",
       "    <tr>\n",
       "      <th>2</th>\n",
       "      <td>2019-11-15</td>\n",
       "      <td>8540.830078</td>\n",
       "      <td>13241.750000</td>\n",
       "      <td>5939.270020</td>\n",
       "      <td>28004.890625</td>\n",
       "    </tr>\n",
       "    <tr>\n",
       "      <th>3</th>\n",
       "      <td>2019-11-18</td>\n",
       "      <td>8549.940430</td>\n",
       "      <td>13207.009766</td>\n",
       "      <td>5929.790039</td>\n",
       "      <td>28036.220703</td>\n",
       "    </tr>\n",
       "    <tr>\n",
       "      <th>4</th>\n",
       "      <td>2019-11-19</td>\n",
       "      <td>8570.660156</td>\n",
       "      <td>13221.120117</td>\n",
       "      <td>5909.049805</td>\n",
       "      <td>27934.019531</td>\n",
       "    </tr>\n",
       "  </tbody>\n",
       "</table>\n",
       "</div>"
      ],
      "text/plain": [
       "         Date  HT Adj Close  FC Adj Close  Paris Adj Close  NY Adj Close\n",
       "0  2019-11-13   8482.099609  13221.120117      5907.089844  27783.589844\n",
       "1  2019-11-14   8479.019531  13241.750000      5901.080078  27781.960938\n",
       "2  2019-11-15   8540.830078  13241.750000      5939.270020  28004.890625\n",
       "3  2019-11-18   8549.940430  13207.009766      5929.790039  28036.220703\n",
       "4  2019-11-19   8570.660156  13221.120117      5909.049805  27934.019531"
      ]
     },
     "execution_count": 48,
     "metadata": {},
     "output_type": "execute_result"
    }
   ],
   "source": [
    "adjAll.head()"
   ]
  },
  {
   "cell_type": "code",
   "execution_count": 6,
   "metadata": {},
   "outputs": [
    {
     "name": "stderr",
     "output_type": "stream",
     "text": [
      "/home/deptinfo/.local/lib/python3.8/site-packages/pandas/core/indexing.py:670: SettingWithCopyWarning: \n",
      "A value is trying to be set on a copy of a slice from a DataFrame\n",
      "\n",
      "See the caveats in the documentation: https://pandas.pydata.org/pandas-docs/stable/user_guide/indexing.html#returning-a-view-versus-a-copy\n",
      "  iloc._setitem_with_indexer(indexer, value)\n"
     ]
    }
   ],
   "source": [
    "##On remplace les NaN avec les valeurs au alentour\n",
    "def isNan(data, column):\n",
    "    for i in range(len(data)-1):\n",
    "        if math.isnan(data[column].loc[i]) :\n",
    "            if i == 0 :\n",
    "                data[column].loc[i] = data[column].loc[i+4]\n",
    "            elif i < len(data):\n",
    "                data[column].loc[i] = data[column].loc[i+1]\n",
    "            else : \n",
    "                data[column].loc[i] = data[column].loc[i-1]\n",
    "    return data\n",
    "##On applique la fct\n",
    "adjAll = isNan(adjAll,\"Paris Adj Close\")\n",
    "adjAll = isNan(adjAll,\"NY Adj Close\")\n",
    "adjAll = isNan(adjAll,\"FC Adj Close\")\n",
    "adjAll = isNan(adjAll,\"HT Adj Close\")\n",
    "\n",
    "##On fait des dataset contenant que la colonne qui nous interesse\n",
    "adjParis = adjAll[\"Paris Adj Close\"]\n",
    "adjNY = adjAll[\"NY Adj Close\"]\n",
    "adjFC = adjAll[\"FC Adj Close\"]\n",
    "adjHT = adjAll[\"HT Adj Close\"]"
   ]
  },
  {
   "cell_type": "markdown",
   "metadata": {},
   "source": [
    "# 3. Définissez une série discrète sur la base de chacune des séries ainsi obtenues en utilisant la transformation ci-dessous. Soit xt la valeur d’Adj Close pour la période t = {0, 1, . . .} ; on va calculer le terme de la série discrète pour la période t = {1, . . .}, st , comme suit : <img src=\"q3.png\">"
   ]
  },
  {
   "cell_type": "code",
   "execution_count": 7,
   "metadata": {},
   "outputs": [],
   "source": [
    "# +1 signifie que la valeur de l’indice a augmenté, −1 qu’elle a diminué et 0 qu’il\n",
    "# n’y a pas eu de mouvement digne de note\n",
    "def createSerie(adj):\n",
    "    serie = []\n",
    "\n",
    "    for i in range(len(adj)):\n",
    "        if i == 0 :\n",
    "            serie.append(0)\n",
    "        else :\n",
    "            ln = math.log(adj[i]/adj[i-1])\n",
    "            if ln > 0.005 :\n",
    "                serie.append(1)\n",
    "            elif ln <= 0.005 and ln >= -0.005 :\n",
    "                serie.append(0)\n",
    "            else :\n",
    "                serie.append(-1)\n",
    "    return serie\n",
    "\n",
    "serieParis = createSerie(adjParis)\n",
    "serieNY = createSerie(adjNY)\n",
    "serieFC = createSerie(adjFC)\n",
    "serieHT = createSerie(adjHT)"
   ]
  },
  {
   "cell_type": "markdown",
   "metadata": {},
   "source": [
    "# 4. Obtenez la table des probabilités des st pour chacun des indices considérés."
   ]
  },
  {
   "cell_type": "code",
   "execution_count": 8,
   "metadata": {},
   "outputs": [],
   "source": [
    "#On calcule la probabilité de chaque cas de figure (1,0,-1)\n",
    "def probSerie(serie):\n",
    "    prob = []\n",
    "    prob.append(serie.count(1)/len(serie))\n",
    "    prob.append(serie.count(0)/len(serie))\n",
    "    prob.append(serie.count(-1)/len(serie))\n",
    "    print(\"On a p = \",prob[0],\" d'avoir un indice qui augumente (+1)\")\n",
    "    print(\"On a p = \",prob[1],\" d'avoir un indice quasi inchangé (0)\")\n",
    "    print(\"On a p = \",prob[2],\" d'avoir un indice qui baisse (-1)\")\n",
    "    return prob"
   ]
  },
  {
   "cell_type": "code",
   "execution_count": 9,
   "metadata": {},
   "outputs": [
    {
     "name": "stdout",
     "output_type": "stream",
     "text": [
      "Probabilité appliqué a la serie de Paris\n",
      "On a p =  0.34099616858237547  d'avoir un indice qui augumente (+1)\n",
      "On a p =  0.36015325670498083  d'avoir un indice quasi inchangé (0)\n",
      "On a p =  0.2988505747126437  d'avoir un indice qui baisse (-1)\n"
     ]
    }
   ],
   "source": [
    "print(\"Probabilité appliqué a la serie de Paris\")\n",
    "probParis = probSerie(serieParis)"
   ]
  },
  {
   "cell_type": "code",
   "execution_count": 10,
   "metadata": {},
   "outputs": [
    {
     "name": "stdout",
     "output_type": "stream",
     "text": [
      "Probabilité appliqué a la serie de NeyWork\n",
      "On a p =  0.3563218390804598  d'avoir un indice qui augumente (+1)\n",
      "On a p =  0.34099616858237547  d'avoir un indice quasi inchangé (0)\n",
      "On a p =  0.30268199233716475  d'avoir un indice qui baisse (-1)\n"
     ]
    }
   ],
   "source": [
    "print(\"Probabilité appliqué a la serie de NeyWork\")\n",
    "probNY = probSerie(serieNY)"
   ]
  },
  {
   "cell_type": "code",
   "execution_count": 11,
   "metadata": {},
   "outputs": [
    {
     "name": "stdout",
     "output_type": "stream",
     "text": [
      "Probabilité appliqué a la serie de Francfort\n",
      "On a p =  0.36015325670498083  d'avoir un indice qui augumente (+1)\n",
      "On a p =  0.3486590038314176  d'avoir un indice quasi inchangé (0)\n",
      "On a p =  0.29118773946360155  d'avoir un indice qui baisse (-1)\n"
     ]
    }
   ],
   "source": [
    "print(\"Probabilité appliqué a la serie de Francfort\")\n",
    "probFC= probSerie(serieFC)"
   ]
  },
  {
   "cell_type": "code",
   "execution_count": 12,
   "metadata": {},
   "outputs": [
    {
     "name": "stdout",
     "output_type": "stream",
     "text": [
      "Probabilité appliqué a la serie de Hi Tech\n",
      "On a p =  0.42911877394636017  d'avoir un indice qui augumente (+1)\n",
      "On a p =  0.27586206896551724  d'avoir un indice quasi inchangé (0)\n",
      "On a p =  0.2950191570881226  d'avoir un indice qui baisse (-1)\n"
     ]
    }
   ],
   "source": [
    "print(\"Probabilité appliqué a la serie de Hi Tech\")\n",
    "probHT = probSerie(serieHT)"
   ]
  },
  {
   "cell_type": "markdown",
   "metadata": {},
   "source": [
    "# 5. Calculez, pour chaque indice : <img src=\"q5.png\">"
   ]
  },
  {
   "cell_type": "markdown",
   "metadata": {},
   "source": [
    "## **Fct pour calculer Pr(st,st+1) :**"
   ]
  },
  {
   "cell_type": "code",
   "execution_count": 13,
   "metadata": {},
   "outputs": [],
   "source": [
    "def stvoisin(data):\n",
    "    couple00 = 0\n",
    "    couple01 = 0\n",
    "    couple11 = 0\n",
    "    couple10 = 0\n",
    "    coupleN10 = 0\n",
    "    couple0N1 = 0\n",
    "    coupleN1N1 = 0\n",
    "    coupleN11 = 0\n",
    "    couple1N1 = 0\n",
    "    indicecouple = []\n",
    "    for i in range (len(data)):\n",
    "        if i != 0 :\n",
    "            if data[i - 1] == 0 and data[i] == 0:\n",
    "                couple00 += 1\n",
    "            elif data[i - 1] == 0 and data[i] == 1:\n",
    "                couple01 += 1\n",
    "            elif data[i - 1] == 1 and data[i] == 1:\n",
    "                couple11 += 1\n",
    "            elif data[i - 1] == 1 and data[i] == 0:\n",
    "                couple10 += 1\n",
    "            elif data[i - 1] == 0 and data[i] == -1:\n",
    "                couple0N1 += 1\n",
    "            elif data[i - 1] == -1 and data[i] == -1:\n",
    "                coupleN1N1 += 1\n",
    "            elif data[i - 1] == -1 and data[i] == 0:\n",
    "                coupleN10 += 1\n",
    "            elif data[i - 1] == 1 and data[i] == -1:\n",
    "                couple1N1 += 1\n",
    "            elif data[i - 1] == -1 and data[i] == 1:\n",
    "                coupleN11 += 1\n",
    "    couple00 = couple00/len(data)\n",
    "    couple01 = couple01/len(data)\n",
    "    couple11 = couple11/len(data)\n",
    "    couple10 = coupleN10/len(data)\n",
    "    coupleN10 = coupleN10/len(data)\n",
    "    couple0N1 = couple0N1/len(data)\n",
    "    coupleN1N1 = coupleN1N1/len(data)\n",
    "    coupleN11 = coupleN11/len(data)\n",
    "    couple1N1 = couple1N1/len(data)\n",
    "    indicecouple.append([\"[0,0]\",couple00])\n",
    "    indicecouple.append([\"[0,1]\",couple01])\n",
    "    indicecouple.append([\"[1,1]\",couple11])\n",
    "    indicecouple.append([\"[1,0]\",couple10])\n",
    "    indicecouple.append([\"[-1,0]\",coupleN10])\n",
    "    indicecouple.append([\"[0,-1]\",couple0N1])\n",
    "    indicecouple.append([\"[-1,-1]\",coupleN1N1])\n",
    "    indicecouple.append([\"[-1,1]\",coupleN11])\n",
    "    indicecouple.append([\"[1,-1]\",couple1N1])\n",
    "    return indicecouple"
   ]
  },
  {
   "cell_type": "code",
   "execution_count": 14,
   "metadata": {},
   "outputs": [
    {
     "name": "stdout",
     "output_type": "stream",
     "text": [
      "----------PARIS-------------\n",
      "La probabilité d'avoir le couple   [0,0]  est de :  0.14942528735632185\n",
      "La probabilité d'avoir le couple   [0,1]  est de :  0.12643678160919541\n",
      "La probabilité d'avoir le couple   [1,1]  est de :  0.12260536398467432\n",
      "La probabilité d'avoir le couple   [1,0]  est de :  0.10344827586206896\n",
      "La probabilité d'avoir le couple   [-1,0]  est de :  0.10344827586206896\n",
      "La probabilité d'avoir le couple   [0,-1]  est de :  0.0842911877394636\n",
      "La probabilité d'avoir le couple   [-1,-1]  est de :  0.09961685823754789\n",
      "La probabilité d'avoir le couple   [-1,1]  est de :  0.09195402298850575\n",
      "La probabilité d'avoir le couple   [1,-1]  est de :  0.11494252873563218\n",
      "----------NewYork-------------\n",
      "La probabilité d'avoir le couple   [0,0]  est de :  0.15708812260536398\n",
      "La probabilité d'avoir le couple   [0,1]  est de :  0.12260536398467432\n",
      "La probabilité d'avoir le couple   [1,1]  est de :  0.1111111111111111\n",
      "La probabilité d'avoir le couple   [1,0]  est de :  0.06130268199233716\n",
      "La probabilité d'avoir le couple   [-1,0]  est de :  0.06130268199233716\n",
      "La probabilité d'avoir le couple   [0,-1]  est de :  0.06130268199233716\n",
      "La probabilité d'avoir le couple   [-1,-1]  est de :  0.11494252873563218\n",
      "La probabilité d'avoir le couple   [-1,1]  est de :  0.12260536398467432\n",
      "La probabilité d'avoir le couple   [1,-1]  est de :  0.12643678160919541\n",
      "----------Francfort-------------\n",
      "La probabilité d'avoir le couple   [0,0]  est de :  0.13409961685823754\n",
      "La probabilité d'avoir le couple   [0,1]  est de :  0.11877394636015326\n",
      "La probabilité d'avoir le couple   [1,1]  est de :  0.13409961685823754\n",
      "La probabilité d'avoir le couple   [1,0]  est de :  0.09578544061302682\n",
      "La probabilité d'avoir le couple   [-1,0]  est de :  0.09578544061302682\n",
      "La probabilité d'avoir le couple   [0,-1]  est de :  0.09578544061302682\n",
      "La probabilité d'avoir le couple   [-1,-1]  est de :  0.0842911877394636\n",
      "La probabilité d'avoir le couple   [-1,1]  est de :  0.10727969348659004\n",
      "La probabilité d'avoir le couple   [1,-1]  est de :  0.1111111111111111\n",
      "----------HI Tech-------------\n",
      "La probabilité d'avoir le couple   [0,0]  est de :  0.08812260536398467\n",
      "La probabilité d'avoir le couple   [0,1]  est de :  0.13793103448275862\n",
      "La probabilité d'avoir le couple   [1,1]  est de :  0.1532567049808429\n",
      "La probabilité d'avoir le couple   [1,0]  est de :  0.05363984674329502\n",
      "La probabilité d'avoir le couple   [-1,0]  est de :  0.05363984674329502\n",
      "La probabilité d'avoir le couple   [0,-1]  est de :  0.04980842911877394\n",
      "La probabilité d'avoir le couple   [-1,-1]  est de :  0.09961685823754789\n",
      "La probabilité d'avoir le couple   [-1,1]  est de :  0.13793103448275862\n",
      "La probabilité d'avoir le couple   [1,-1]  est de :  0.14559386973180077\n"
     ]
    }
   ],
   "source": [
    "def printcouple(serie):\n",
    "    probcouple = stvoisin(serie)\n",
    "    for i in range(len(probcouple)):\n",
    "        print(\"La probabilité d'avoir le couple  \", probcouple[i][0], \" est de : \", probcouple[i][1])\n",
    "print(\"----------PARIS-------------\")\n",
    "printcouple(serieParis)\n",
    "print(\"----------NewYork-------------\")\n",
    "printcouple(serieNY)\n",
    "print(\"----------Francfort-------------\")\n",
    "printcouple(serieFC)\n",
    "print(\"----------HI Tech-------------\")\n",
    "printcouple(serieHT)"
   ]
  },
  {
   "cell_type": "markdown",
   "metadata": {},
   "source": [
    "## **fct pour calculer Pr(st|st-1) :**"
   ]
  },
  {
   "cell_type": "code",
   "execution_count": 15,
   "metadata": {},
   "outputs": [],
   "source": [
    "def probsachantprecedant(serie,indice,indice2):\n",
    "    nbindice = 0\n",
    "    nbindice2 = 0\n",
    "    nb = 0\n",
    "    nbautre = 0\n",
    "    for i in range(len(serie)):\n",
    "        nb +=1\n",
    "        if i != 0:\n",
    "            if serie[i-1] == indice :\n",
    "                nbindice +=1;\n",
    "                if serie[i]== indice2 :\n",
    "                     nbindice2 += 1\n",
    "    pindice = nbindice/len(serie)\n",
    "    pindice2 = nbindice2/nbindice\n",
    "    #interres = pindice*pindice2\n",
    "    # print(\"P (\",indice ,\") : \", pindice)\n",
    "    print(\"P(\",indice2,\") sachant \",indice, \"est égale à :\",pindice2)"
   ]
  },
  {
   "cell_type": "code",
   "execution_count": 35,
   "metadata": {},
   "outputs": [],
   "source": [
    "def printsachant(serie,fct):\n",
    "    indice = [-1,0,1]\n",
    "    for i in indice :\n",
    "        print(\"----------------------------------------\")\n",
    "        for j in indice :\n",
    "            fct(serie,i,j)"
   ]
  },
  {
   "cell_type": "code",
   "execution_count": 36,
   "metadata": {},
   "outputs": [
    {
     "name": "stdout",
     "output_type": "stream",
     "text": [
      "----------------PARIS----------------\n",
      "----------------------------------------\n",
      "P( -1 ) sachant  -1 est égale à : 0.33766233766233766\n",
      "P( 0 ) sachant  -1 est égale à : 0.35064935064935066\n",
      "P( 1 ) sachant  -1 est égale à : 0.3116883116883117\n",
      "----------------------------------------\n",
      "P( -1 ) sachant  0 est égale à : 0.23404255319148937\n",
      "P( 0 ) sachant  0 est égale à : 0.4148936170212766\n",
      "P( 1 ) sachant  0 est égale à : 0.35106382978723405\n",
      "----------------------------------------\n",
      "P( -1 ) sachant  1 est égale à : 0.33707865168539325\n",
      "P( 0 ) sachant  1 est égale à : 0.30337078651685395\n",
      "P( 1 ) sachant  1 est égale à : 0.3595505617977528\n",
      "----------------NewYork----------------\n",
      "----------------------------------------\n",
      "P( -1 ) sachant  -1 est égale à : 0.38461538461538464\n",
      "P( 0 ) sachant  -1 est égale à : 0.20512820512820512\n",
      "P( 1 ) sachant  -1 est égale à : 0.41025641025641024\n",
      "----------------------------------------\n",
      "P( -1 ) sachant  0 est égale à : 0.1797752808988764\n",
      "P( 0 ) sachant  0 est égale à : 0.4606741573033708\n",
      "P( 1 ) sachant  0 est égale à : 0.3595505617977528\n",
      "----------------------------------------\n",
      "P( -1 ) sachant  1 est égale à : 0.3548387096774194\n",
      "P( 0 ) sachant  1 est égale à : 0.3333333333333333\n",
      "P( 1 ) sachant  1 est égale à : 0.3118279569892473\n",
      "----------------Francfort----------------\n",
      "----------------------------------------\n",
      "P( -1 ) sachant  -1 est égale à : 0.29333333333333333\n",
      "P( 0 ) sachant  -1 est égale à : 0.3333333333333333\n",
      "P( 1 ) sachant  -1 est égale à : 0.37333333333333335\n",
      "----------------------------------------\n",
      "P( -1 ) sachant  0 est égale à : 0.27472527472527475\n",
      "P( 0 ) sachant  0 est égale à : 0.38461538461538464\n",
      "P( 1 ) sachant  0 est égale à : 0.34065934065934067\n",
      "----------------------------------------\n",
      "P( -1 ) sachant  1 est égale à : 0.30851063829787234\n",
      "P( 0 ) sachant  1 est égale à : 0.3191489361702128\n",
      "P( 1 ) sachant  1 est égale à : 0.3723404255319149\n",
      "----------------HI Tech----------------\n",
      "----------------------------------------\n",
      "P( -1 ) sachant  -1 est égale à : 0.34210526315789475\n",
      "P( 0 ) sachant  -1 est égale à : 0.18421052631578946\n",
      "P( 1 ) sachant  -1 est égale à : 0.47368421052631576\n",
      "----------------------------------------\n",
      "P( -1 ) sachant  0 est égale à : 0.18055555555555555\n",
      "P( 0 ) sachant  0 est égale à : 0.3194444444444444\n",
      "P( 1 ) sachant  0 est égale à : 0.5\n",
      "----------------------------------------\n",
      "P( -1 ) sachant  1 est égale à : 0.3392857142857143\n",
      "P( 0 ) sachant  1 est égale à : 0.30357142857142855\n",
      "P( 1 ) sachant  1 est égale à : 0.35714285714285715\n"
     ]
    }
   ],
   "source": [
    "print(\"----------------PARIS----------------\")           \n",
    "printsachant(serieParis,probsachantprecedant)\n",
    "print(\"----------------NewYork----------------\")\n",
    "printsachant(serieNY,probsachantprecedant)\n",
    "print(\"----------------Francfort----------------\")\n",
    "printsachant(serieFC,probsachantprecedant)\n",
    "print(\"----------------HI Tech----------------\")\n",
    "printsachant(serieHT,probsachantprecedant)"
   ]
  },
  {
   "cell_type": "markdown",
   "metadata": {},
   "source": [
    "## **fct pour calculer Pr(st+1 | st) :**"
   ]
  },
  {
   "cell_type": "code",
   "execution_count": 17,
   "metadata": {},
   "outputs": [],
   "source": [
    "def probsachantprochain(serie,indice,indice2):\n",
    "    nbindice = 0\n",
    "    nbindice2 = 0\n",
    "    nb = 0\n",
    "    nbautre = 0\n",
    "    for i in range(len(serie)):\n",
    "        nb +=1\n",
    "        if i != 0:\n",
    "            if serie[i] == indice :\n",
    "                nbindice +=1;\n",
    "                if serie[i-1]== indice2 :\n",
    "                     nbindice2 += 1\n",
    "    pindice = nbindice/len(serie)\n",
    "    pindice2 = nbindice2/nbindice\n",
    "    #interres = pindice*pindice2\n",
    "    # print(\"P (\",indice ,\") : \", pindice)\n",
    "    print(\"P(\",indice2,\") sachant \",indice, \"est égale à :\",pindice2)"
   ]
  },
  {
   "cell_type": "code",
   "execution_count": 37,
   "metadata": {},
   "outputs": [
    {
     "name": "stdout",
     "output_type": "stream",
     "text": [
      "----------------PARIS----------------\n",
      "----------------------------------------\n",
      "P( -1 ) sachant  -1 est égale à : 0.3333333333333333\n",
      "P( 0 ) sachant  -1 est égale à : 0.28205128205128205\n",
      "P( 1 ) sachant  -1 est égale à : 0.38461538461538464\n",
      "----------------------------------------\n",
      "P( -1 ) sachant  0 est égale à : 0.2903225806451613\n",
      "P( 0 ) sachant  0 est égale à : 0.41935483870967744\n",
      "P( 1 ) sachant  0 est égale à : 0.2903225806451613\n",
      "----------------------------------------\n",
      "P( -1 ) sachant  1 est égale à : 0.2696629213483146\n",
      "P( 0 ) sachant  1 est égale à : 0.3707865168539326\n",
      "P( 1 ) sachant  1 est égale à : 0.3595505617977528\n",
      "----------------NewYork----------------\n",
      "----------------------------------------\n",
      "P( -1 ) sachant  -1 est égale à : 0.379746835443038\n",
      "P( 0 ) sachant  -1 est égale à : 0.20253164556962025\n",
      "P( 1 ) sachant  -1 est égale à : 0.4177215189873418\n",
      "----------------------------------------\n",
      "P( -1 ) sachant  0 est égale à : 0.18181818181818182\n",
      "P( 0 ) sachant  0 est égale à : 0.4659090909090909\n",
      "P( 1 ) sachant  0 est égale à : 0.3522727272727273\n",
      "----------------------------------------\n",
      "P( -1 ) sachant  1 est égale à : 0.34408602150537637\n",
      "P( 0 ) sachant  1 est égale à : 0.34408602150537637\n",
      "P( 1 ) sachant  1 est égale à : 0.3118279569892473\n",
      "----------------Francfort----------------\n",
      "----------------------------------------\n",
      "P( -1 ) sachant  -1 est égale à : 0.2894736842105263\n",
      "P( 0 ) sachant  -1 est égale à : 0.32894736842105265\n",
      "P( 1 ) sachant  -1 est égale à : 0.3815789473684211\n",
      "----------------------------------------\n",
      "P( -1 ) sachant  0 est égale à : 0.2777777777777778\n",
      "P( 0 ) sachant  0 est égale à : 0.3888888888888889\n",
      "P( 1 ) sachant  0 est égale à : 0.3333333333333333\n",
      "----------------------------------------\n",
      "P( -1 ) sachant  1 est égale à : 0.2978723404255319\n",
      "P( 0 ) sachant  1 est égale à : 0.32978723404255317\n",
      "P( 1 ) sachant  1 est égale à : 0.3723404255319149\n",
      "----------------HI Tech----------------\n",
      "----------------------------------------\n",
      "P( -1 ) sachant  -1 est égale à : 0.33766233766233766\n",
      "P( 0 ) sachant  -1 est égale à : 0.16883116883116883\n",
      "P( 1 ) sachant  -1 est égale à : 0.4935064935064935\n",
      "----------------------------------------\n",
      "P( -1 ) sachant  0 est égale à : 0.19718309859154928\n",
      "P( 0 ) sachant  0 est égale à : 0.323943661971831\n",
      "P( 1 ) sachant  0 est égale à : 0.4788732394366197\n",
      "----------------------------------------\n",
      "P( -1 ) sachant  1 est égale à : 0.32142857142857145\n",
      "P( 0 ) sachant  1 est égale à : 0.32142857142857145\n",
      "P( 1 ) sachant  1 est égale à : 0.35714285714285715\n"
     ]
    }
   ],
   "source": [
    "print(\"----------------PARIS----------------\")           \n",
    "printsachant(serieParis,probsachantprochain)\n",
    "print(\"----------------NewYork----------------\")\n",
    "printsachant(serieNY,probsachantprochain)\n",
    "print(\"----------------Francfort----------------\")\n",
    "printsachant(serieFC,probsachantprochain)\n",
    "print(\"----------------HI Tech----------------\")\n",
    "printsachant(serieHT,probsachantprochain)"
   ]
  },
  {
   "cell_type": "markdown",
   "metadata": {},
   "source": [
    "# 6. Calculez, pour chaque couple d’indices : <img src=\"q6.png\">"
   ]
  },
  {
   "cell_type": "markdown",
   "metadata": {},
   "source": [
    "## **Fct pour calculer Pr(st(i),st(j)) :**"
   ]
  },
  {
   "cell_type": "code",
   "execution_count": 20,
   "metadata": {},
   "outputs": [],
   "source": [
    "def stvoisin(data1,data2):\n",
    "    couple00 = 0\n",
    "    couple01 = 0\n",
    "    couple11 = 0\n",
    "    couple10 = 0\n",
    "    coupleN10 = 0\n",
    "    couple0N1 = 0\n",
    "    coupleN1N1 = 0\n",
    "    coupleN11 = 0\n",
    "    couple1N1 = 0\n",
    "    indicecouple = []\n",
    "    for i in range (len(data1)):\n",
    "        if i != 0 :\n",
    "            if data1[i - 1] == 0 and data2[i] == 0:\n",
    "                couple00 += 1\n",
    "            elif data1[i - 1] == 0 and data2[i] == 1:\n",
    "                couple01 += 1\n",
    "            elif data1[i - 1] == 1 and data2[i] == 1:\n",
    "                couple11 += 1\n",
    "            elif data1[i - 1] == 1 and data2[i] == 0:\n",
    "                couple10 += 1\n",
    "            elif data1[i - 1] == 0 and data2[i] == -1:\n",
    "                couple0N1 += 1\n",
    "            elif data1[i - 1] == -1 and data2[i] == -1:\n",
    "                coupleN1N1 += 1\n",
    "            elif data1[i - 1] == -1 and data2[i] == 0:\n",
    "                coupleN10 += 1\n",
    "            elif data1[i - 1] == 1 and data2[i] == -1:\n",
    "                couple1N1 += 1\n",
    "            elif data1[i - 1] == -1 and data2[i] == 1:\n",
    "                coupleN11 += 1\n",
    "    couple00 = couple00/len(data1)\n",
    "    couple01 = couple01/len(data1)\n",
    "    couple11 = couple11/len(data1)\n",
    "    couple10 = coupleN10/len(data1)\n",
    "    coupleN10 = coupleN10/len(data1)\n",
    "    couple0N1 = couple0N1/len(data1)\n",
    "    coupleN1N1 = coupleN1N1/len(data1)\n",
    "    coupleN11 = coupleN11/len(data1)\n",
    "    couple1N1 = couple1N1/len(data1)\n",
    "    indicecouple.append([\"[0,0]\",couple00])\n",
    "    indicecouple.append([\"[0,1]\",couple01])\n",
    "    indicecouple.append([\"[1,1]\",couple11])\n",
    "    indicecouple.append([\"[1,0]\",couple10])\n",
    "    indicecouple.append([\"[-1,0]\",coupleN10])\n",
    "    indicecouple.append([\"[0,-1]\",couple0N1])\n",
    "    indicecouple.append([\"[-1,-1]\",coupleN1N1])\n",
    "    indicecouple.append([\"[-1,1]\",coupleN11])\n",
    "    indicecouple.append([\"[1,-1]\",couple1N1])\n",
    "    return indicecouple"
   ]
  },
  {
   "cell_type": "code",
   "execution_count": 38,
   "metadata": {},
   "outputs": [],
   "source": [
    "def printcouple2(serie1,serie2):\n",
    "    probcouple = stvoisin(serie1,serie2)\n",
    "    for i in range(len(probcouple)):\n",
    "        print(\"La probabilité d'avoir le couple  \", probcouple[i][0], \" est de : \", probcouple[i][1])"
   ]
  },
  {
   "cell_type": "code",
   "execution_count": 41,
   "metadata": {},
   "outputs": [
    {
     "name": "stdout",
     "output_type": "stream",
     "text": [
      "Pr(PARIS|NEWYORK) :\n",
      "La probabilité d'avoir le couple   [0,0]  est de :  0.16091954022988506\n",
      "La probabilité d'avoir le couple   [0,1]  est de :  0.13026819923371646\n",
      "La probabilité d'avoir le couple   [1,1]  est de :  0.10344827586206896\n",
      "La probabilité d'avoir le couple   [1,0]  est de :  0.07279693486590039\n",
      "La probabilité d'avoir le couple   [-1,0]  est de :  0.07279693486590039\n",
      "La probabilité d'avoir le couple   [0,-1]  est de :  0.06896551724137931\n",
      "La probabilité d'avoir le couple   [-1,-1]  est de :  0.09961685823754789\n",
      "La probabilité d'avoir le couple   [-1,1]  est de :  0.12260536398467432\n",
      "La probabilité d'avoir le couple   [1,-1]  est de :  0.13409961685823754\n",
      "_________________________________________________________\n",
      "Pr(NEWYORK|PARIS) :\n",
      "La probabilité d'avoir le couple   [0,0]  est de :  0.15708812260536398\n",
      "La probabilité d'avoir le couple   [0,1]  est de :  0.09961685823754789\n",
      "La probabilité d'avoir le couple   [1,1]  est de :  0.14942528735632185\n",
      "La probabilité d'avoir le couple   [1,0]  est de :  0.08045977011494253\n",
      "La probabilité d'avoir le couple   [-1,0]  est de :  0.08045977011494253\n",
      "La probabilité d'avoir le couple   [0,-1]  est de :  0.0842911877394636\n",
      "La probabilité d'avoir le couple   [-1,-1]  est de :  0.12643678160919541\n",
      "La probabilité d'avoir le couple   [-1,1]  est de :  0.09195402298850575\n",
      "La probabilité d'avoir le couple   [1,-1]  est de :  0.08812260536398467\n"
     ]
    }
   ],
   "source": [
    "print(\"Pr(PARIS|NEWYORK) :\")\n",
    "printcouple2(serieParis,serieNY)\n",
    "print(\"_________________________________________________________\")\n",
    "print(\"Pr(NEWYORK|PARIS) :\")\n",
    "printcouple2(serieNY,serieParis)"
   ]
  },
  {
   "cell_type": "code",
   "execution_count": 42,
   "metadata": {},
   "outputs": [
    {
     "name": "stdout",
     "output_type": "stream",
     "text": [
      "Pr(FC|HT) :\n",
      "La probabilité d'avoir le couple   [0,0]  est de :  0.11494252873563218\n",
      "La probabilité d'avoir le couple   [0,1]  est de :  0.1417624521072797\n",
      "La probabilité d'avoir le couple   [1,1]  est de :  0.13026819923371646\n",
      "La probabilité d'avoir le couple   [1,0]  est de :  0.04980842911877394\n",
      "La probabilité d'avoir le couple   [-1,0]  est de :  0.04980842911877394\n",
      "La probabilité d'avoir le couple   [0,-1]  est de :  0.09195402298850575\n",
      "La probabilité d'avoir le couple   [-1,-1]  est de :  0.08045977011494253\n",
      "La probabilité d'avoir le couple   [-1,1]  est de :  0.15708812260536398\n",
      "La probabilité d'avoir le couple   [1,-1]  est de :  0.12260536398467432\n",
      "_________________________________________________________\n",
      "Pr(HT|FC) :\n",
      "La probabilité d'avoir le couple   [0,0]  est de :  0.11877394636015326\n",
      "La probabilité d'avoir le couple   [0,1]  est de :  0.08045977011494253\n",
      "La probabilité d'avoir le couple   [1,1]  est de :  0.18007662835249041\n",
      "La probabilité d'avoir le couple   [1,0]  est de :  0.0842911877394636\n",
      "La probabilité d'avoir le couple   [-1,0]  est de :  0.0842911877394636\n",
      "La probabilité d'avoir le couple   [0,-1]  est de :  0.07662835249042145\n",
      "La probabilité d'avoir le couple   [-1,-1]  est de :  0.10727969348659004\n",
      "La probabilité d'avoir le couple   [-1,1]  est de :  0.09961685823754789\n",
      "La probabilité d'avoir le couple   [1,-1]  est de :  0.10727969348659004\n"
     ]
    }
   ],
   "source": [
    "print(\"Pr(FC|HT) :\")\n",
    "printcouple2(serieFC,serieHT)\n",
    "print(\"_________________________________________________________\")\n",
    "print(\"Pr(HT|FC) :\")\n",
    "printcouple2(serieHT,serieFC)"
   ]
  },
  {
   "cell_type": "markdown",
   "metadata": {},
   "source": [
    "## **Fct pour calculer Pr(st(i)|st(j)) :**"
   ]
  },
  {
   "cell_type": "code",
   "execution_count": 22,
   "metadata": {},
   "outputs": [],
   "source": [
    "def probsachantdata(serie,serie2,indice,indice2):\n",
    "    nbindice = 0\n",
    "    nbindice2 = 0\n",
    "    nb = 0\n",
    "    nbautre = 0\n",
    "    for i in range(len(serie)):\n",
    "        nb +=1\n",
    "        if i != 0:\n",
    "            if serie[i] == indice :\n",
    "                nbindice +=1;\n",
    "                if serie2[i]== indice2 :\n",
    "                     nbindice2 += 1\n",
    "    pindice = nbindice/len(serie)\n",
    "    pindice2 = nbindice2/nbindice\n",
    "    #interres = pindice*pindice2\n",
    "    # print(\"P (\",indice ,\") : \", pindice)\n",
    "    print(\"P(\",indice2,\") sachant \",indice, \"est égale à :\",pindice2)"
   ]
  },
  {
   "cell_type": "code",
   "execution_count": 45,
   "metadata": {},
   "outputs": [],
   "source": [
    "def printsachant2(serie1,serie2,fct):\n",
    "    indice = [-1,0,1]\n",
    "    for i in indice :\n",
    "        print(\"----------------------------------------\")\n",
    "        for j in indice :\n",
    "            fct(serie1,serie2,i,j)"
   ]
  },
  {
   "cell_type": "code",
   "execution_count": 47,
   "metadata": {},
   "outputs": [
    {
     "name": "stdout",
     "output_type": "stream",
     "text": [
      "----------------PARIS|NY----------------\n",
      "----------------------------------------\n",
      "P( -1 ) sachant  -1 est égale à : 0.6153846153846154\n",
      "P( 0 ) sachant  -1 est égale à : 0.24358974358974358\n",
      "P( 1 ) sachant  -1 est égale à : 0.14102564102564102\n",
      "----------------------------------------\n",
      "P( -1 ) sachant  0 est égale à : 0.1935483870967742\n",
      "P( 0 ) sachant  0 est égale à : 0.5376344086021505\n",
      "P( 1 ) sachant  0 est égale à : 0.26881720430107525\n",
      "----------------------------------------\n",
      "P( -1 ) sachant  1 est égale à : 0.14606741573033707\n",
      "P( 0 ) sachant  1 est égale à : 0.21348314606741572\n",
      "P( 1 ) sachant  1 est égale à : 0.6404494382022472\n",
      "----------------NeY|FC----------------\n",
      "----------------------------------------\n",
      "P( -1 ) sachant  -1 est égale à : 0.569620253164557\n",
      "P( 0 ) sachant  -1 est égale à : 0.25316455696202533\n",
      "P( 1 ) sachant  -1 est égale à : 0.17721518987341772\n",
      "----------------------------------------\n",
      "P( -1 ) sachant  0 est égale à : 0.2159090909090909\n",
      "P( 0 ) sachant  0 est égale à : 0.5113636363636364\n",
      "P( 1 ) sachant  0 est égale à : 0.2727272727272727\n",
      "----------------------------------------\n",
      "P( -1 ) sachant  1 est égale à : 0.12903225806451613\n",
      "P( 0 ) sachant  1 est égale à : 0.26881720430107525\n",
      "P( 1 ) sachant  1 est égale à : 0.6021505376344086\n",
      "----------------FC|NY----------------\n",
      "----------------------------------------\n",
      "P( -1 ) sachant  -1 est égale à : 0.5921052631578947\n",
      "P( 0 ) sachant  -1 est égale à : 0.25\n",
      "P( 1 ) sachant  -1 est égale à : 0.15789473684210525\n",
      "----------------------------------------\n",
      "P( -1 ) sachant  0 est égale à : 0.2222222222222222\n",
      "P( 0 ) sachant  0 est égale à : 0.5\n",
      "P( 1 ) sachant  0 est égale à : 0.2777777777777778\n",
      "----------------------------------------\n",
      "P( -1 ) sachant  1 est égale à : 0.14893617021276595\n",
      "P( 0 ) sachant  1 est égale à : 0.2553191489361702\n",
      "P( 1 ) sachant  1 est égale à : 0.5957446808510638\n",
      "----------------HI Tech|NY----------------\n",
      "----------------------------------------\n",
      "P( -1 ) sachant  -1 est égale à : 0.7922077922077922\n",
      "P( 0 ) sachant  -1 est égale à : 0.16883116883116883\n",
      "P( 1 ) sachant  -1 est égale à : 0.03896103896103896\n",
      "----------------------------------------\n",
      "P( -1 ) sachant  0 est égale à : 0.18309859154929578\n",
      "P( 0 ) sachant  0 est égale à : 0.676056338028169\n",
      "P( 1 ) sachant  0 est égale à : 0.14084507042253522\n",
      "----------------------------------------\n",
      "P( -1 ) sachant  1 est égale à : 0.044642857142857144\n",
      "P( 0 ) sachant  1 est égale à : 0.24107142857142858\n",
      "P( 1 ) sachant  1 est égale à : 0.7142857142857143\n"
     ]
    }
   ],
   "source": [
    "print(\"----------------PARIS|NY----------------\")           \n",
    "printsachant2(serieParis,serieNY,probsachantdata)\n",
    "print(\"----------------NeY|FC----------------\")\n",
    "printsachant2(serieNY,serieFC, probsachantdata)\n",
    "print(\"----------------FC|NY----------------\")\n",
    "printsachant2(serieFC,serieNY,probsachantdata)\n",
    "print(\"----------------HI Tech|NY----------------\")\n",
    "printsachant2(serieHT,serieNY,probsachantdata)"
   ]
  },
  {
   "cell_type": "markdown",
   "metadata": {},
   "source": [
    "# 8. Qu’est-ce que vous pouvez déduire en comparant ces probabilités ?\n",
    "\n",
    "Je remarque que souvent les probabilités d'un agmentation ou de baisse des bourses sont coordonnée\n",
    "Par exemple on peut voir que si la bourse de New York augmente, celle de Francfort a une probabilité de 0.60 d'augementer egalement\n",
    "\n",
    "La probabilité est la même pour une baisse ou une stagnation de la bourse\n",
    "\n",
    "Cela s'applique au 4 dataset que j'ai pu analyser.\n",
    "\n",
    "# 9. Comment pensez-vous qu’un agent intelligent pourrait les utiliser pour gagner de l’argent en achetant et vendant ces indices ?\n",
    "\n",
    "Je pense qu'un agent intelligent peut grace a ces chiffres prédire la probabilité qu'il ait une chute ou un hausse des bourses. \n",
    "On peut voir que parfois les probabilités d'une evnement en finction d'un autre est très haut donc ca peut permettre a l'agent de prédire la meilleure action a faire."
   ]
  }
 ],
 "metadata": {
  "kernelspec": {
   "display_name": "Python 3",
   "language": "python",
   "name": "python3"
  },
  "language_info": {
   "codemirror_mode": {
    "name": "ipython",
    "version": 3
   },
   "file_extension": ".py",
   "mimetype": "text/x-python",
   "name": "python",
   "nbconvert_exporter": "python",
   "pygments_lexer": "ipython3",
   "version": "3.8.5"
  }
 },
 "nbformat": 4,
 "nbformat_minor": 4
}
